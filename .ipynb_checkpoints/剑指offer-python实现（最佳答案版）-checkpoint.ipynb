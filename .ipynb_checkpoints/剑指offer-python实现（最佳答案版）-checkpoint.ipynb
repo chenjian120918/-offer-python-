{
 "cells": [
  {
   "cell_type": "markdown",
   "metadata": {},
   "source": [
    "# 《1》2维数组中的查找[原题](https://www.nowcoder.com/practice/abc3fe2ce8e146608e868a70efebf62e?tpId=13&tqId=11154&rp=2&ru=/ta/coding-interviews&qru=/ta/coding-interviews/question-ranking)"
   ]
  },
  {
   "cell_type": "code",
   "execution_count": 1,
   "metadata": {},
   "outputs": [],
   "source": [
    "\"\"\"思路：从左下角元素往上查找，右边元素是比这个元素大，上边是的元素比这个元素小。\n",
    "于是，target比这个元素小就往上找，比这个元素大就往右找。如果出了边界，\n",
    "则说明二维数组中不存在target元素\"\"\"\n",
    "class Solution:\n",
    "    def Find(self, target, array):\n",
    "        rows = len(array)\n",
    "        cols = len(array[0])\n",
    "        i, j = rows - 1, 0\n",
    "        while i >= 0 and j <= cols:\n",
    "            if array[i][j] == target:\n",
    "                return True\n",
    "            elif target < array[i][j]:  #上移动\n",
    "                i -= 1\n",
    "            else:  #右移动\n",
    "                j += 1\n",
    "        return False\n"
   ]
  },
  {
   "cell_type": "markdown",
   "metadata": {},
   "source": [
    "# 《2》替换空格[原题](https://www.nowcoder.com/practice/4060ac7e3e404ad1a894ef3e17650423?tpId=13&tqId=11155&rp=2&ru=/ta/coding-interviews&qru=/ta/coding-interviews/question-ranking)"
   ]
  },
  {
   "cell_type": "code",
   "execution_count": 2,
   "metadata": {},
   "outputs": [],
   "source": [
    "class Solution:\n",
    "    def replaceSpace(self, s):\n",
    "        s = s.replace(\" \", \"%20\")  # 一定要加等于号来接受返回值，反不然替换无效\n",
    "        return s"
   ]
  },
  {
   "cell_type": "markdown",
   "metadata": {},
   "source": [
    "# 《3》从尾到头打印链表[原题](https://www.nowcoder.com/practice/d0267f7f55b3412ba93bd35cfa8e8035?tpId=13&tqId=11156&rp=2&ru=/ta/coding-interviews&qru=/ta/coding-interviews/question-ranking)"
   ]
  },
  {
   "cell_type": "code",
   "execution_count": 3,
   "metadata": {},
   "outputs": [],
   "source": [
    "class Solution:\n",
    "    # 返回从尾部到头部的列表值序列，例如[1,2,3]\n",
    "    def printListFromTailToHead(self, listNode):\n",
    "        if listNode is None:\n",
    "            return []\n",
    "        i = []\n",
    "        head = listNode\n",
    "        while head:\n",
    "            i.insert(0, head.val)  # 注意这里insert插入到0下标，当然你也可以append之后再reverse一下\n",
    "            head = head.next\n",
    "        return i"
   ]
  },
  {
   "cell_type": "markdown",
   "metadata": {},
   "source": [
    "# 《4》重建二叉树[原题](https://www.nowcoder.com/practice/8a19cbe657394eeaac2f6ea9b0f6fcf6?tpId=13&tqId=11157&rp=2&ru=/ta/coding-interviews&qru=/ta/coding-interviews/question-ranking)"
   ]
  },
  {
   "cell_type": "code",
   "execution_count": 4,
   "metadata": {},
   "outputs": [],
   "source": [
    "class Solution:\n",
    "    def reConstructBinaryTree(self, pre, tin):\n",
    "        if not pre or not tin:\n",
    "            return\n",
    "        root = TreeNode(pre.pop(0))  # 注意这里先pop而不是索引，另外还需要将TreeNode一下才能有左右子节点\n",
    "        index = tin.index(root.val)  # root.val而不是root，因为tin储存的是节点值，返回节点值所处的位置索引index\n",
    "        root.left = self.reConstructBinaryTree(pre, tin[:index])  # 递归，相当于重新构建了以可二叉树\n",
    "        root.right = self.reConstructBinaryTree(pre, tin[index + 1:])  # 递归 \n",
    "        return root\n"
   ]
  },
  {
   "cell_type": "markdown",
   "metadata": {},
   "source": [
    "# 《5》用两个栈实现队列[原题](https://www.nowcoder.com/practice/54275ddae22f475981afa2244dd448c6?tpId=13&tqId=11158&rp=2&ru=/ta/coding-interviews&qru=/ta/coding-interviews/question-ranking)"
   ]
  },
  {
   "cell_type": "code",
   "execution_count": 5,
   "metadata": {},
   "outputs": [],
   "source": [
    "class Solution:\n",
    "    def __init__(self):\n",
    "        # 创建两个栈，栈A作为push的缓存，栈B作为pop的缓存\n",
    "        self.stackA = []\n",
    "        self.stackB = []\n",
    "    def push(self, node):\n",
    "        self.stackA.append(node)\n",
    "    def pop(self):\n",
    "        if self.stackB:  # 如果栈B存在则直接pop最后一个\n",
    "            return self.stackB.pop()\n",
    "        else:  # 栈B不存在\n",
    "            while self.stackA:  # 将栈A的元素全部加入到栈B，再栈B弹出最后一个，记住这里是栈A全部弹出到栈B哈，全部是重点\n",
    "                self.stackB.append(self.stackA.pop())\n",
    "            return self.stackB.pop()\n"
   ]
  },
  {
   "cell_type": "markdown",
   "metadata": {},
   "source": [
    "# 《6》旋转数组的最小数字[原题](https://www.nowcoder.com/practice/9f3231a991af4f55b95579b44b7a01ba?tpId=13&tqId=11159&rp=2&ru=/ta/coding-interviews&qru=/ta/coding-interviews/question-ranking)"
   ]
  },
  {
   "cell_type": "code",
   "execution_count": 6,
   "metadata": {},
   "outputs": [],
   "source": [
    "\"\"\"思路：数组前部分从小到大，只要发现开始变小则该处就是最小值\"\"\"\n",
    "class Solution:\n",
    "    def minNumberInRotateArray(self, rotateArray):\n",
    "        if not rotateArray:\n",
    "            return 0\n",
    "        else:\n",
    "            temp = 0\n",
    "            for i in rotateArray:\n",
    "                if i >= temp:  #不减规则\n",
    "                    temp = i\n",
    "                else:  #否则该处就是最小值\n",
    "                    return i\n"
   ]
  },
  {
   "cell_type": "markdown",
   "metadata": {},
   "source": [
    "# 《7》斐波那契数列[原题](https://www.nowcoder.com/practice/c6c7742f5ba7442aada113136ddea0c3?tpId=13&tqId=11160&rp=2&ru=/ta/coding-interviews&qru=/ta/coding-interviews/question-ranking)"
   ]
  },
  {
   "cell_type": "code",
   "execution_count": 7,
   "metadata": {},
   "outputs": [],
   "source": [
    "class Solution:\n",
    "    def Fibonacci(self, n):\n",
    "        if n < 2:\n",
    "            return n\n",
    "        else:\n",
    "            res = [0, 1, 1, 2]  # 第0项是0，第1项是1，第二项是1，第三项是2，初始化\n",
    "            while len(res) <= n:\n",
    "                res.append(res[-1] + res[-2])\n",
    "            return res[n]\n"
   ]
  },
  {
   "cell_type": "markdown",
   "metadata": {},
   "source": [
    "# 《8》跳台阶[原题](https://www.nowcoder.com/practice/8c82a5b80378478f9484d87d1c5f12a4?tpId=13&tqId=11161&rp=2&ru=/ta/coding-interviews&qru=/ta/coding-interviews/question-ranking)"
   ]
  },
  {
   "cell_type": "code",
   "execution_count": 8,
   "metadata": {},
   "outputs": [],
   "source": [
    "class Solution:\n",
    "    def jumpFloor(self, number):\n",
    "        \"\"\"斐波那契数列\"\"\"\n",
    "        res = [0, 1, 2]  # 表示0个台阶地跳法，1表示一1台阶跳法，2表示2个台阶地跳法\n",
    "        while len(res) <= number:\n",
    "            res.append(res[-1] + res[-2])\n",
    "        return res[number]\n"
   ]
  },
  {
   "cell_type": "markdown",
   "metadata": {},
   "source": [
    "# 《9》变态跳台阶[原题](https://www.nowcoder.com/practice/22243d016f6b47f2a6928b4313c85387?tpId=13&tqId=11162&rp=2&ru=/ta/coding-interviews&qru=/ta/coding-interviews/question-ranking)"
   ]
  },
  {
   "cell_type": "code",
   "execution_count": 9,
   "metadata": {},
   "outputs": [],
   "source": [
    "class Solution:\n",
    "    def jumpFloorII(self, number):\n",
    "        \"\"\"具体推导过程参考链接解析\"\"\"\n",
    "        return 2 ** (number - 1)\n"
   ]
  },
  {
   "cell_type": "markdown",
   "metadata": {},
   "source": [
    "# 《10》矩形覆盖[原题](https://www.nowcoder.com/practice/72a5a919508a4251859fb2cfb987a0e6?tpId=13&tqId=11163&rp=2&ru=/ta/coding-interviews&qru=/ta/coding-interviews/question-ranking)"
   ]
  },
  {
   "cell_type": "code",
   "execution_count": 10,
   "metadata": {},
   "outputs": [],
   "source": [
    "\"\"\"这题也是斐波那契数列，第一种情况竖着放矩形，下一步可以继续竖着放或者横着放，剩下n-1；\n",
    "第二种情况横着放矩形，另外一个也只能横着放，剩下n-2，所以最后一步f(n)=f(n-1)+f(n-2)\"\"\"\n",
    "class Solution:\n",
    "    def rectCover(self, number):\n",
    "        \"\"\"斐波那契数列\"\"\"\n",
    "        res = [0, 1, 2]  #根据题意初始化\n",
    "        while len(res) <= number:\n",
    "            res.append(res[-1] + res[-2])\n",
    "        return res[number]\n"
   ]
  },
  {
   "cell_type": "markdown",
   "metadata": {},
   "source": [
    "# 《11》二进制中1的个数[原题](https://www.nowcoder.com/practice/8ee967e43c2c4ec193b040ea7fbb10b8?tpId=13&tqId=11164&rp=2&ru=/ta/coding-interviews&qru=/ta/coding-interviews/question-ranking)"
   ]
  },
  {
   "cell_type": "code",
   "execution_count": 11,
   "metadata": {},
   "outputs": [],
   "source": [
    "class Solution:\n",
    "    def NumberOf1(self, n):\n",
    "        return bin(2 ** 32 + n).count(\"1\") if n < 0 else bin(n).count(\"1\")  # 注意2**32+n表示的就是n为负数时的补码\n"
   ]
  },
  {
   "cell_type": "markdown",
   "metadata": {},
   "source": [
    "# 《12》数值的整数次方[原题](https://www.nowcoder.com/practice/1a834e5e3e1a4b7ba251417554e07c00?tpId=13&tqId=11165&rp=2&ru=/ta/coding-interviews&qru=/ta/coding-interviews/question-ranking)"
   ]
  },
  {
   "cell_type": "code",
   "execution_count": 12,
   "metadata": {},
   "outputs": [],
   "source": [
    "class Solution:\n",
    "    def Power(self, base, exponent):\n",
    "        if exponent == 0:\n",
    "            return 1\n",
    "        elif base == 0:\n",
    "            return 0\n",
    "        else:\n",
    "            temp = 1\n",
    "            for _ in range(abs(exponent)):  # 用绝对值的方式进行for循环\n",
    "                temp = base * temp\n",
    "            return temp if exponent > 0 else 1 / temp  # 若exponent为负数，则return 1/temp\n"
   ]
  },
  {
   "cell_type": "markdown",
   "metadata": {},
   "source": [
    "# 《13》调整数组顺序使奇数位于偶数前面[原题](https://www.nowcoder.com/practice/beb5aa231adc45b2a5dcc5b62c93f593?tpId=13&tqId=11166&rp=2&ru=/ta/coding-interviews&qru=/ta/coding-interviews/question-ranking)"
   ]
  },
  {
   "cell_type": "code",
   "execution_count": 13,
   "metadata": {},
   "outputs": [],
   "source": [
    "class Solution:\n",
    "    def reOrderArray(self, array):\n",
    "        result = []\n",
    "        [result.append(i) for i in array if i % 2]  # 列表解析式，得到奇数\n",
    "        [result.append(i) for i in array if not i % 2]  # 列表解析式得到偶数\n",
    "        return result\n"
   ]
  },
  {
   "cell_type": "markdown",
   "metadata": {},
   "source": [
    "# 《14》链表中倒数第k个结点[原题](https://www.nowcoder.com/practice/529d3ae5a407492994ad2a246518148a?tpId=13&tqId=11167&rp=2&ru=/ta/coding-interviews&qru=/ta/coding-interviews/question-ranking)"
   ]
  },
  {
   "cell_type": "code",
   "execution_count": 14,
   "metadata": {},
   "outputs": [],
   "source": [
    "\"\"\"低级方法，全部读取好节点再索引倒数第k个节点\"\"\"\n",
    "class Solution:\n",
    "    def FindKthToTail(self, head, k):\n",
    "        arr = []\n",
    "        \"\"\"首先\"\"\"\n",
    "        while not head:\n",
    "            arr.append(head)\n",
    "            head = head.next\n",
    "        if k > len(arr) or k < 1:\n",
    "            return\n",
    "        else:\n",
    "            return arr[-k]\n",
    "\n",
    "\n",
    "\"\"\"高级方法：Python 设置两个指针，p1，p2，先让p2走k-1步，\n",
    "然后再一起走，直到p2为最后一个 时，p1即为倒数第k个节点，关键在于p2比p1领先k个节点\"\"\"\n",
    "class Solution:\n",
    "    def FindKthToTail(self, head, k):\n",
    "        if head == None or k <= 0:\n",
    "            return None\n",
    "        #设置两个指针，p2指针先走（k-1）步，然后再一起走，当p2为最后一个时，p1就为倒数第k个 数\n",
    "        p2 = head\n",
    "        p1 = head\n",
    "        #p2先走，走k-1步，如果k大于链表长度则返回 空，否则的话继续走\n",
    "        while k > 1:\n",
    "            if p2.next:\n",
    "                p2 = p2.next\n",
    "                k -= 1\n",
    "            else:\n",
    "                return None\n",
    "        #两个指针一起 走，一直到p2为最后一个,p1即为所求\n",
    "        while p2.next:\n",
    "            p1 = p1.next\n",
    "            p2 = p2.next\n",
    "        return p1\n"
   ]
  },
  {
   "cell_type": "markdown",
   "metadata": {},
   "source": [
    "# 《15》反转链表[原题](https://www.nowcoder.com/practice/75e878df47f24fdc9dc3e400ec6058ca?tpId=13&tqId=11168&rp=2&ru=/ta/coding-interviews&qru=/ta/coding-interviews/question-ranking)"
   ]
  },
  {
   "cell_type": "code",
   "execution_count": 15,
   "metadata": {},
   "outputs": [],
   "source": [
    "class Solution:\n",
    "    def ReverseList(self, phead):\n",
    "        if not phead or not phead.next:\n",
    "            return phead\n",
    "        pre = None\n",
    "        while phead:\n",
    "            cur = phead.next  # 将phead后面结点保存到cur，因为第二句会断开这两者\n",
    "            phead.next = pre  # 将头节点指向None\n",
    "            pre = phead  # 此时将pre向前移一位\n",
    "            phead = cur  # 此时将phead向前移一位\n",
    "        return pre\n"
   ]
  },
  {
   "cell_type": "markdown",
   "metadata": {},
   "source": [
    "# 《16》合并两个排序的链表[原题](https://www.nowcoder.com/practice/d8b6b4358f774294a89de2a6ac4d9337?tpId=13&tqId=11169&rp=2&ru=/ta/coding-interviews&qru=/ta/coding-interviews/question-ranking)"
   ]
  },
  {
   "cell_type": "code",
   "execution_count": 16,
   "metadata": {},
   "outputs": [],
   "source": [
    "class Solution:\n",
    "    def Merge(self, pHead1, pHead2):\n",
    "        pre = ListNode(0)\n",
    "        head = pre\n",
    "        \"\"\"谁小链接谁\"\"\"\n",
    "        while pHead1 and pHead2:\n",
    "            if pHead1.val > pHead2.val:\n",
    "                pre.next = pHead2\n",
    "                pHead2 = pHead2.next\n",
    "            else:\n",
    "                pre.next = pHead1\n",
    "                pHead1 = pHead1.next\n",
    "            pre = pre.next  # 不能漏\n",
    "        if pHead1:  # 若pHead1不为None,则直接连接\n",
    "            pre.next = pHead1\n",
    "        elif pHead2:\n",
    "            pre.next = pHead2\n",
    "        return head.next  # 记住返回的是head.next而不是pre,pre早就不是头节点了\n"
   ]
  },
  {
   "cell_type": "markdown",
   "metadata": {},
   "source": [
    "# 《17》树的子结构[原题](https://www.nowcoder.com/practice/6e196c44c7004d15b1610b9afca8bd88?tpId=13&tqId=11170&rp=2&ru=/ta/coding-interviews&qru=/ta/coding-interviews/question-ranking)"
   ]
  },
  {
   "cell_type": "code",
   "execution_count": 17,
   "metadata": {},
   "outputs": [],
   "source": [
    "class Solution:\n",
    "    def HasSubtree(self, pRoot1, pRoot2):\n",
    "        \"\"\"题目的意思是pRoot2是pRoot1的子结构\"\"\"\n",
    "        def same(root1, root2):  # 定义一个子函数\n",
    "            if not root2:  # 递归终止条件\n",
    "                return True\n",
    "            if root1 and root2 and root1.val == root2.val:  # 从某点开始，结点值相同时，递归，直至root2为None\n",
    "                return same(root1.left, root2.left) and same(root1.right, root2.right)  # 注意是且的关系，都要满足\n",
    "            else:\n",
    "                return False\n",
    "        if pRoot1 and pRoot2:  # 不能少\n",
    "            return same(pRoot1, pRoot2) or same(pRoot1.left, pRoot2) or same(pRoot1.right, pRoot2)  # 注意是或的关系，至少满足一个\n",
    "        else:\n",
    "            return False\n"
   ]
  },
  {
   "cell_type": "markdown",
   "metadata": {},
   "source": [
    "# 《18》二叉树的镜像[原题](https://www.nowcoder.com/practice/564f4c26aa584921bc75623e48ca3011?tpId=13&tqId=11171&rp=2&ru=/ta/coding-interviews&qru=/ta/coding-interviews/question-ranking)"
   ]
  },
  {
   "cell_type": "code",
   "execution_count": 18,
   "metadata": {},
   "outputs": [],
   "source": [
    "class Solution:\n",
    "    # 返回镜像树的根节点\n",
    "    \"\"\"广度或者深度优先都行\"\"\"\n",
    "    def Mirror(self, root):\n",
    "        if not root:\n",
    "            return root\n",
    "        queue = [root]\n",
    "        \"\"\"广度优先遍历\"\"\"\n",
    "        while queue:\n",
    "            root = queue.pop()\n",
    "            # 不要求左右子结点同时存在\n",
    "            root.left, root.right = root.right, root.left  # 关键一步\n",
    "            if root.left:\n",
    "                queue.append(root.left)\n",
    "            if root.right:\n",
    "                queue.append(root.right)\n",
    "        return root\n"
   ]
  },
  {
   "cell_type": "markdown",
   "metadata": {},
   "source": [
    "# 《19》顺时针打印矩阵[原题](https://www.nowcoder.com/practice/9b4c81a02cd34f76be2659fa0d54342a?tpId=13&tqId=11172&rp=2&ru=/ta/coding-interviews&qru=/ta/coding-interviews/question-ranking)"
   ]
  },
  {
   "cell_type": "code",
   "execution_count": 19,
   "metadata": {},
   "outputs": [],
   "source": [
    "\"\"\"\n",
    "思路：可以模拟魔方逆时针旋转的方法，一直做取出第一行的操作\n",
    "例如 \n",
    "1 2 3\n",
    "4 5 6\n",
    "7 8 9\n",
    "输出并删除第一行后，再进行一次逆时针旋转，就变成：\n",
    "6 9\n",
    "5 8\n",
    "4 7\n",
    "继续重复上述操作即可。\n",
    "\"\"\"\n",
    "class Solution:\n",
    "    def printMatrix(self, matrix):\n",
    "        result = []\n",
    "        while (matrix):\n",
    "            result += matrix.pop(0)\n",
    "            if not matrix or not matrix[0]:\n",
    "                break\n",
    "            matrix = self.turn(matrix)  #每一步旋转一次\n",
    "        return result\n",
    "\n",
    "    def turn(self, matrix):\n",
    "        newmat = list(zip(*matrix))[::-1]  #顺时针矩阵转置，这步不理解的可以举例试一下\n",
    "        return newmat\n"
   ]
  },
  {
   "cell_type": "markdown",
   "metadata": {},
   "source": [
    "# 《20》包含min函数的栈[原题](https://www.nowcoder.com/practice/4c776177d2c04c2494f2555c9fcc1e49?tpId=13&tqId=11173&rp=2&ru=/ta/coding-interviews&qru=/ta/coding-interviews/question-ranking)"
   ]
  },
  {
   "cell_type": "code",
   "execution_count": 20,
   "metadata": {},
   "outputs": [],
   "source": [
    "# 在构建栈的基础上维护一个min队列\n",
    "class Solution:\n",
    "    def __init__(self):\n",
    "        self.stack = []\n",
    "        self.minstack = []\n",
    "    def push(self, node):  #压入\n",
    "        self.stack.append(node)\n",
    "        if self.minstack == [] or node < self.min():\n",
    "            self.minstack.append(node)\n",
    "        else:\n",
    "            self.minstack.append(self.minstack[-1])\n",
    "    def pop(self):  #弹出\n",
    "        if self.stack == [] or self.minstack == []:\n",
    "            return\n",
    "        self.stack.pop()\n",
    "        self.minstack.pop()\n",
    "    def top(self):\n",
    "        return self.stack[-1]\n",
    "    def min(self):\n",
    "        return self.minstack[-1]\n"
   ]
  },
  {
   "cell_type": "markdown",
   "metadata": {},
   "source": [
    "# 《21》栈的压入与弹出序列[原题](https://www.nowcoder.com/practice/d77d11405cc7470d82554cb392585106?tpId=13&tqId=11174&rp=2&ru=/ta/coding-interviews&qru=/ta/coding-interviews/question-ranking)"
   ]
  },
  {
   "cell_type": "code",
   "execution_count": 21,
   "metadata": {},
   "outputs": [],
   "source": [
    "class Solution:\n",
    "    def IsPopOrder(self, pushV, popV):\n",
    "        stack = []\n",
    "        while popV:  # 循环终止条件是popV队列为空\n",
    "            if pushV and pushV[0] == popV[0]:  # 第一种情况：如果pushV和popV的第一元素相同，则直接同时弹出\n",
    "                pushV.pop(0)\n",
    "                popV.pop(0)\n",
    "            elif pushV:  # 第二种情况：首先逐步添加元素到stack中\n",
    "                stack.append(pushV.pop(0))\n",
    "            elif stack and stack[-1] == popV[0]:  # stack的最后一个和popV的第一个相同，则弹出\n",
    "                stack.pop()\n",
    "                popV.pop(0)\n",
    "            else:  # 否则返回False\n",
    "                return False\n",
    "        return True\n"
   ]
  },
  {
   "cell_type": "markdown",
   "metadata": {},
   "source": [
    "# 《22》从上往下打印二叉树[原题](https://www.nowcoder.com/practice/7fe2212963db4790b57431d9ed259701?tpId=13&tqId=11175&rp=3&ru=/ta/coding-interviews&qru=/ta/coding-interviews/question-ranking)"
   ]
  },
  {
   "cell_type": "code",
   "execution_count": 22,
   "metadata": {},
   "outputs": [],
   "source": [
    "class Solution:\n",
    "    # 返回从上到下每个节点值列表，例：[1,2,3]\n",
    "    def PrintFromTopToBottom(self, root):\n",
    "        \"\"\"广度优先遍历\"\"\"\n",
    "        if not root:\n",
    "            return []\n",
    "        res = []\n",
    "        queue = [root]\n",
    "        while queue:\n",
    "            cur = queue.pop(0)  # 队列的形式弹出\n",
    "            res.append(cur.val)\n",
    "            if cur.left:\n",
    "                queue.append(cur.left)\n",
    "            if cur.right:\n",
    "                queue.append(cur.right)\n",
    "        return res\n"
   ]
  },
  {
   "cell_type": "markdown",
   "metadata": {},
   "source": [
    "# 《23》二叉搜索树的后序遍历[原题](https://www.nowcoder.com/practice/a861533d45854474ac791d90e447bafd?tpId=13&tqId=11176&tPage=2&rp=3&ru=%2Fta%2Fcoding-interviews&qru=%2Fta%2Fcoding-interviews%2Fquestion-ranking)"
   ]
  },
  {
   "cell_type": "code",
   "execution_count": 23,
   "metadata": {},
   "outputs": [],
   "source": [
    "\"\"\"\n",
    "二叉搜索树的特点是：根的左子树全部小于根，根的右子树全部大于根\n",
    "该树的后序序列的合法序列是，对于一个序列S，最后一个元素是x （也就是根），\n",
    "如果去掉最后一个元素的序列为T，那么T满足：T可以分成两段，前一段（左子树）小于x，\n",
    "后一段（右子树）大于x，且这两段（子树）都是合法的后序序列。完美的递归定义 \"\"\"\n",
    "class Solution:\n",
    "    def VerifySquenceOfBST(self, sequence):\n",
    "        if not sequence:  #递归终止条件\n",
    "            return False\n",
    "        n = len(sequence)\n",
    "        root = sequence[-1]\n",
    "        for i in range(n):  #寻找左子树的部分\n",
    "            if sequence[i] > root:\n",
    "                break\n",
    "        right_begin = i\n",
    "        for i in sequence[right_begin:-1]:  #判断右子树的所有节点是否全部都大于root\n",
    "            if i < root:\n",
    "                return False\n",
    "        left = True\n",
    "        right = True\n",
    "        if right_begin < len(sequence) - 1:\n",
    "            right = self.VerifySquenceOfBST(sequence[right_begin:-1])  #递归\n",
    "        if right_begin > 0:\n",
    "            left = self.VerifySquenceOfBST(sequence[:right_begin])  #递归\n",
    "        return left and right\n"
   ]
  },
  {
   "cell_type": "markdown",
   "metadata": {},
   "source": [
    "# 《24》二叉树中和为某一值的路径[原题](https://www.nowcoder.com/practice/b736e784e3e34731af99065031301bca?tpId=13&tqId=11177&rp=3&ru=/ta/coding-interviews&qru=/ta/coding-interviews/question-ranking)"
   ]
  },
  {
   "cell_type": "code",
   "execution_count": 24,
   "metadata": {},
   "outputs": [],
   "source": [
    "\"\"\"\n",
    "递归先序遍历树， 把结点加入路径。\n",
    "若该结点是叶子结点则比较当前路径和是否等于期待和。\n",
    "\"\"\"\n",
    "class Solution:\n",
    "    # 返回二维列表，内部每个列表表示找到的路径\n",
    "    def FindPath(self, root, expectNumber):\n",
    "        def DFS(root):\n",
    "            if not root:\n",
    "                return []\n",
    "            if not root.left and not root.right:\n",
    "                return [[root.val]]\n",
    "            paths = [[root.val] + path for path in DFS(root.left)] + \\\n",
    "                    [[root.val] + path for path in DFS(root.right)]\n",
    "            return paths\n",
    "        paths = DFS(root)\n",
    "        return [p for p in paths if sum(p) == expectNumber]\n"
   ]
  },
  {
   "cell_type": "markdown",
   "metadata": {},
   "source": [
    "# 《25》复杂链表的复制[原题](https://www.nowcoder.com/practice/f836b2c43afc4b35ad6adc41ec941dba?tpId=13&tqId=11178&rp=3&ru=/ta/coding-interviews&qru=/ta/coding-interviews/question-ranking)"
   ]
  },
  {
   "cell_type": "code",
   "execution_count": 25,
   "metadata": {},
   "outputs": [],
   "source": [
    "class Solution:\n",
    "    \"\"\"递归法求解\"\"\"\n",
    "    def Clone(self, head):\n",
    "        if not head: return\n",
    "        newNode = RandomListNode(head.label)  # 新生成一个结点，深度复制\n",
    "        newNode.random = head.random  # 新结点的random和旧结点的random指针相同\n",
    "        newNode.next = self.Clone(head.next)  # 递归，从下而上，所以返回头结点\n",
    "        return newNode\n"
   ]
  },
  {
   "cell_type": "markdown",
   "metadata": {},
   "source": [
    "# 《26》二叉搜索树与双向链表[原题](https://www.nowcoder.com/practice/947f6eb80d944a84850b0538bf0ec3a5?tpId=13&tqId=11179&rp=3&ru=/ta/coding-interviews&qru=/ta/coding-interviews/question-ranking)"
   ]
  },
  {
   "cell_type": "code",
   "execution_count": 26,
   "metadata": {},
   "outputs": [],
   "source": [
    "\"\"\"先中序遍历，将所有的节点保存到一个列表中。对这个list[:-1]进行遍历，\n",
    "每个节点的right设为下一个节点，下一个节点的left设为上一个节点\"\"\"\n",
    "class Solution:\n",
    "    def Convert(self, pRootOfTree):\n",
    "        if not pRootOfTree: return\n",
    "        self.res = []\n",
    "        self.MidTravel(pRootOfTree)\n",
    "        for i, v in enumerate(self.res[:-1]):\n",
    "            v.right = self.res[i + 1]  #着重理解一下这两行代码就很容易了\n",
    "            self.res[i + 1].left = v\n",
    "        return self.res[0]  #返回头结点\n",
    "    def MidTravel(self, pRoot):  #中序遍历\n",
    "        if not pRoot:\n",
    "            return\n",
    "        self.MidTravel(pRoot.left)\n",
    "        self.res.append(pRoot)\n",
    "        self.MidTravel(pRoot.right)\n"
   ]
  },
  {
   "cell_type": "markdown",
   "metadata": {},
   "source": [
    "# 《27》字符串的排列[原题](https://www.nowcoder.com/practice/fe6b651b66ae47d7acce78ffdd9a96c7?tpId=13&tqId=11180&rp=3&ru=/ta/coding-interviews&qru=/ta/coding-interviews/question-ranking)"
   ]
  },
  {
   "cell_type": "code",
   "execution_count": 27,
   "metadata": {},
   "outputs": [],
   "source": [
    "class Solution:\n",
    "    def Permutation(self, ss):\n",
    "        \"\"\"回溯法\"\"\"\n",
    "        if len(ss) == 0:\n",
    "            return []\n",
    "        if len(ss) == 1:\n",
    "            return list(ss)  # 递归终止条件\n",
    "        keep = list(ss)\n",
    "        result = []\n",
    "        for i in set(keep):\n",
    "            tmp = list(ss)\n",
    "            tmp.pop(tmp.index(i))\n",
    "            ans = self.Permutation(tmp)  # 递归，全部铺开，再回溯\n",
    "            ans = [i + j for j in ans]\n",
    "            result.extend(ans)  # 只能用extend，不能用append,应为元素是列表\n",
    "        return sorted(result)\n"
   ]
  },
  {
   "cell_type": "markdown",
   "metadata": {},
   "source": [
    "# 《28》数组中出现次数超过一半的数字[原题](https://www.nowcoder.com/practice/e8a1b01a2df14cb2b228b30ee6a92163?tpId=13&tqId=11181&rp=3&ru=/ta/coding-interviews&qru=/ta/coding-interviews/question-ranking)"
   ]
  },
  {
   "cell_type": "code",
   "execution_count": 28,
   "metadata": {},
   "outputs": [],
   "source": [
    "\"\"\"\n",
    "思路：脑补打擂台，遇到同们就加1，遇到别的帮派就派一个同们与它同归于尽，-1，则最后同们人数超过其他帮派总和的话肯定能赢\n",
    "\"\"\"\n",
    "class Solution:\n",
    "    def MoreThanHalfNum_Solution(self, numbers):\n",
    "        if not numbers:\n",
    "            return 0\n",
    "        num = numbers[0]  #第一个站上擂台的人\n",
    "        count = 1\n",
    "        for i in range(1, len(numbers)):\n",
    "            if numbers[i] == num:\n",
    "                count += 1\n",
    "            else:\n",
    "                count -= 1\n",
    "            if count == 0:\n",
    "                num = numbers[i]  #最后留在擂台上的人\n",
    "                count = 1\n",
    "        count1 = 0\n",
    "        for i in numbers:  #判断它的长度是否超过一半，时间复杂度是O(n)，注意：该种方法的优点是避免每个都计算次数\n",
    "            if i == num:\n",
    "                count1 += 1\n",
    "        return num if count1 > len(numbers) / 2.0 else 0\n",
    "\n",
    "\n",
    "\"\"\"\n",
    "方法2：hashmap\n",
    "\"\"\"\n",
    "class Solution:\n",
    "    def MoreThanHalfNum_Solution(self, numbers):\n",
    "        dict_nums = {}\n",
    "        for i in numbers:\n",
    "            if i in dict_nums:\n",
    "                dict_nums[i] += 1\n",
    "            else:\n",
    "                dict_nums[i] = 1\n",
    "            if dict_nums[i] > len(numbers) / 2:\n",
    "                return i\n",
    "        return 0\n"
   ]
  },
  {
   "cell_type": "markdown",
   "metadata": {},
   "source": [
    "# 《29》最小的K个数[原题](https://www.nowcoder.com/practice/6a296eb82cf844ca8539b57c23e6e9bf?tpId=13&tqId=11182&rp=3&ru=/ta/coding-interviews&qru=/ta/coding-interviews/question-ranking)"
   ]
  },
  {
   "cell_type": "code",
   "execution_count": 29,
   "metadata": {},
   "outputs": [],
   "source": [
    "\"\"\"top-k问题：最小堆算法，避免全部排序，缩小范围，先从小堆里面去找\"\"\"\n",
    "class Solution:\n",
    "    def GetLeastNumbers_Solution(self, tinput, k):\n",
    "        if not k:\n",
    "            return []\n",
    "        elif k == len(tinput):\n",
    "            return sorted(tinput)\n",
    "        elif k > len(tinput):\n",
    "            return []\n",
    "        tmp, arr = tinput[0], tinput[1:]  #初始化\n",
    "        low = [i for i in arr if i <= tmp]  #低\n",
    "        high = [i for i in arr if i > tmp]  #高\n",
    "        if len(low) == k:  #\n",
    "            return low\n",
    "        elif len(low) > k:  #小堆个数超过k，就从小堆里面进一步搜寻\n",
    "            return self.GetLeastNumbers_Solution(low, k)\n",
    "        else:  #否则从大堆里面借几个数\n",
    "            low.append(tmp)\n",
    "            return low + self.GetLeastNumbers_Solution(high, k - len(low))\n"
   ]
  },
  {
   "cell_type": "markdown",
   "metadata": {},
   "source": [
    "# 《30》连续子数组的最大和[原题](https://www.nowcoder.com/practice/459bd355da1549fa8a49e350bf3df484?tpId=13&tqId=11183&rp=3&ru=/ta/coding-interviews&qru=/ta/coding-interviews/question-ranking)"
   ]
  },
  {
   "cell_type": "code",
   "execution_count": 30,
   "metadata": {},
   "outputs": [],
   "source": [
    "\"\"\"动态规划入门\"\"\"\n",
    "class Solution:\n",
    "    def FindGreatestSumOfSubArray(self, array):\n",
    "        if not array:\n",
    "            return 0\n",
    "        dp = [0 for i in array]  #初始化值为0\n",
    "        for i in range(len(array)):\n",
    "            dp[i] = max(dp[i - 1] + array[i], array[i])  #前面的要和不要进行比较，取较大值\n",
    "        return max(dp)\n"
   ]
  },
  {
   "cell_type": "markdown",
   "metadata": {},
   "source": [
    "# 《31》整数中1出现的次数（从1到n整数中1出现的次数）[原题](https://www.nowcoder.com/practice/bd7f978302044eee894445e244c7eee6?tpId=13&tqId=11184&rp=3&ru=/ta/coding-interviews&qru=/ta/coding-interviews/question-ranking)"
   ]
  },
  {
   "cell_type": "code",
   "execution_count": 31,
   "metadata": {},
   "outputs": [],
   "source": [
    "\"\"\"方法1：用内建count函数\"\"\"\n",
    "class Solution:\n",
    "    def NumberOf1Between1AndN_Solution(self, n):\n",
    "        count = 0\n",
    "        for i in range(1, n + 1):\n",
    "            count += str(i).count(\"1\")\n",
    "        return count\n",
    "\n",
    "\n",
    "\"\"\"方法2：可以自己去看讨论\"\"\"\n",
    "class Solution:\n",
    "    def NumberOf1Between1AndN_Solution(self, n):\n",
    "        m = 1\n",
    "        ones = 0\n",
    "        while m <= n:\n",
    "            ones += (n / m + 8) / 10 * m + (n / m % 10 == 1) * (n % m + 1)\n",
    "            m *= 10\n",
    "        return ones\n"
   ]
  },
  {
   "cell_type": "markdown",
   "metadata": {},
   "source": [
    "# 《32》把数组排成最小的数[原题](https://www.nowcoder.com/practice/8fecd3f8ba334add803bf2a06af1b993?tpId=13&tqId=11185&rp=3&ru=/ta/coding-interviews&qru=/ta/coding-interviews/question-ranking)"
   ]
  },
  {
   "cell_type": "code",
   "execution_count": 32,
   "metadata": {},
   "outputs": [],
   "source": [
    "\"\"\"思路：基于快速排序算法修改，关键思想是前一个元素和后一个元素的组合大小比较，而不是单个元素比较\n",
    "\"\"\"\n",
    "class Solution:\n",
    "    def PrintMinNumber(self, numbers):\n",
    "        if not numbers:\n",
    "            return \"\"\n",
    "        else:\n",
    "            numbers = list(map(str, numbers))\n",
    "            self.quick_sort(numbers, 0, len(numbers) - 1)\n",
    "            return int(\"\".join(numbers))\n",
    "         \n",
    "    def quick_sort(self, alist, first, last):\n",
    "        if first >= last:\n",
    "            return\n",
    "        low = first\n",
    "        high = last\n",
    "        mid_value = alist[first]\n",
    "        while low < high:  #这句相当重要\n",
    "            while low < high and int(alist[high] + mid_value) >= int(mid_value + alist[high]):  #关键语句，先high，后low\n",
    "                high -= 1\n",
    "            alist[low] = alist[high]\n",
    "            while low < high and int(alist[low] + mid_value) < int(mid_value + alist[low]):  #关键语句\n",
    "                low += 1\n",
    "            alist[high] = alist[low]\n",
    "        alist[low] = mid_value\n",
    "        self.quick_sort(alist, first, low - 1)  #递归\n",
    "        self.quick_sort(alist, low + 1, last)  #递归\n"
   ]
  },
  {
   "cell_type": "markdown",
   "metadata": {},
   "source": [
    "# 《33》丑数[原题](https://www.nowcoder.com/practice/6aa9e04fc3794f68acf8778237ba065b?tpId=13&tqId=11186&rp=3&ru=/ta/coding-interviews&qru=/ta/coding-interviews/question-ranking)"
   ]
  },
  {
   "cell_type": "code",
   "execution_count": 33,
   "metadata": {},
   "outputs": [],
   "source": [
    "\"\"\"思路：维护三个索引列表，分别代表2，3，5；根据题意得知：当前的丑数100%由前一个丑数乘以2/3/5而得来，动态规划问题，取最小值即可\n",
    "\"\"\"\n",
    "class Solution:\n",
    "    def GetUglyNumber_Solution(self, index):\n",
    "        if index < 1:\n",
    "            return 0\n",
    "        ugly_number = [1 for i in range(index)]  #注意初始化\n",
    "        nextindex = 1\n",
    "        t2 = t3 = t5 = 0\n",
    "        while nextindex < len(ugly_number):\n",
    "            min_value = min(ugly_number[t2] * 2, ugly_number[t3] * 3, ugly_number[t5] * 5)\n",
    "            ugly_number[nextindex] = min_value\n",
    "            while min_value == ugly_number[t2] * 2:\n",
    "                t2 += 1\n",
    "            while min_value == ugly_number[t3] * 3:\n",
    "                t3 += 1\n",
    "            while min_value == ugly_number[t5] * 5:\n",
    "                t5 += 1\n",
    "            nextindex += 1\n",
    "        return ugly_number[-1]\n"
   ]
  },
  {
   "cell_type": "markdown",
   "metadata": {},
   "source": [
    "# 《34》第一个只出现一次的字符[原题](https://www.nowcoder.com/practice/1c82e8cf713b4bbeb2a5b31cf5b0417c?tpId=13&tqId=11187&rp=3&ru=/ta/coding-interviews&qru=/ta/coding-interviews/question-ranking)"
   ]
  },
  {
   "cell_type": "code",
   "execution_count": 34,
   "metadata": {},
   "outputs": [],
   "source": [
    "\"\"\"方法1,有bug只不过测试数据不够广，例如[1,2,1,2]就会报错\"\"\"\n",
    "class Solution:\n",
    "    def FirstNotRepeatingChar(self, s):\n",
    "        return s.index(list(filter(lambda i: s.count(i) == 1, s))[0]) if s else -1\n",
    "\n",
    "\n",
    "\"\"\"方法2\"\"\"\n",
    "class Solution:\n",
    "    def FirstNotRepeatingChar(self, s):\n",
    "        for i in s:\n",
    "            if s.count(i) == 1:\n",
    "                return s.index(i)\n",
    "        return -1\n"
   ]
  },
  {
   "cell_type": "markdown",
   "metadata": {},
   "source": [
    "# 《35》数组中的逆序对[原题](https://www.nowcoder.com/practice/96bd6684e04a44eb80e6a68efc0ec6c5?tpId=13&tqId=11188&rp=2&ru=/ta/coding-interviews&qru=/ta/coding-interviews/question-ranking)"
   ]
  },
  {
   "cell_type": "code",
   "execution_count": 35,
   "metadata": {},
   "outputs": [],
   "source": [
    "\"\"\"基于归并排序的修改：关键在于cnt += mid - i + 1\"\"\"\n",
    "class Solution:\n",
    "    def InversePairs(self, data):\n",
    "        return self.inverseCount(data[:], 0, len(data) - 1, data[:]) % 1000000007\n",
    "\n",
    "    def inverseCount(self, tmp, start, end, data):\n",
    "        if end - start < 1:\n",
    "            return 0\n",
    "        if end - start == 1:\n",
    "            if data[start] <= data[end]:\n",
    "                return 0\n",
    "            else:\n",
    "                tmp[start], tmp[end] = data[end], data[start]\n",
    "                return 1\n",
    "        mid = (start + end) // 2\n",
    "        cnt = self.inverseCount(data, start, mid, tmp) + self.inverseCount(data, mid + 1, end, tmp)\n",
    "        i = start\n",
    "        j = mid + 1\n",
    "        ind = start\n",
    "\n",
    "        while (i <= mid and j <= end):\n",
    "            if data[i] <= data[j]:\n",
    "                tmp[ind] = data[i]\n",
    "                i += 1\n",
    "            else:\n",
    "                tmp[ind] = data[j]\n",
    "                cnt += mid - i + 1\n",
    "                j += 1\n",
    "            ind += 1\n",
    "        while (i <= mid):\n",
    "            tmp[ind] = data[i]\n",
    "            i += 1\n",
    "            ind += 1\n",
    "        while (j <= end):\n",
    "            tmp[ind] = data[j]\n",
    "            j += 1\n",
    "            ind += 1\n",
    "        return cnt\n"
   ]
  },
  {
   "cell_type": "markdown",
   "metadata": {},
   "source": [
    "# 《36》两个链表的第一个公共结点[原题](https://www.nowcoder.com/practice/6ab1d9a29e88450685099d45c9e31e46?tpId=13&tqId=11189&rp=2&ru=/ta/coding-interviews&qru=/ta/coding-interviews/question-ranking)"
   ]
  },
  {
   "cell_type": "code",
   "execution_count": 36,
   "metadata": {},
   "outputs": [],
   "source": [
    "\"\"\"思路：两个链表的指针以相同速度平移，到达末尾None节点时，被\"另外\"的一个链表的头结点赋值，\n",
    "等第2轮的时候一定可以相遇，即为公共结点\n",
    "PS:两个链表有公共的尾部，因为其公共结点的next()是一样的\n",
    "PPS:其实也可以被本身头结点赋值，但是会更慢\"\"\"\n",
    "class Solution:\n",
    "    def FindFirstCommonNode(self, pHead1, pHead2):\n",
    "        p1 = pHead1\n",
    "        p2 = pHead2\n",
    "        while p1 != p2:\n",
    "            p1 = p1.next if p1 else pHead2\n",
    "            p2 = p2.next if p2 else pHead1\n",
    "        return p1\n"
   ]
  },
  {
   "cell_type": "markdown",
   "metadata": {},
   "source": [
    "# 《37》数字在排序数组中出现的次数[原题](https://www.nowcoder.com/practice/70610bf967994b22bb1c26f9ae901fa2?tpId=13&tqId=11190&rp=2&ru=/ta/coding-interviews&qru=/ta/coding-interviews/question-ranking)"
   ]
  },
  {
   "cell_type": "code",
   "execution_count": 37,
   "metadata": {},
   "outputs": [],
   "source": [
    "\"\"\"思路：利用二分查找思想，稍微改动一下，例如：[1,2,2,3]\n",
    "用二分查找2+0.5=2.5时候的下标减去1.5时候的下标等于出现的次数\"\"\"\n",
    "class Solution:\n",
    "    def GetNumberOfK(self, data, k):\n",
    "        def binary_search(data, k):  #定义二分查找非递归版\n",
    "            left = 0\n",
    "            right = len(data) - 1\n",
    "            while left <= right:\n",
    "                mid = (left + right) // 2\n",
    "                if data[mid] > k:\n",
    "                    right = mid - 1\n",
    "                if data[mid] < k:\n",
    "                    left = mid + 1\n",
    "            return right\n",
    "        return binary_search(data, k + 0.5) - binary_search(data, k - 0.5)\n"
   ]
  },
  {
   "cell_type": "markdown",
   "metadata": {},
   "source": [
    "# 《38》二叉树的深度[原题](https://www.nowcoder.com/practice/435fb86331474282a3499955f0a41e8b?tpId=13&tqId=11191&rp=2&ru=/ta/coding-interviews&qru=/ta/coding-interviews/question-ranking)"
   ]
  },
  {
   "cell_type": "code",
   "execution_count": 38,
   "metadata": {},
   "outputs": [],
   "source": [
    "\"\"\"思路：深度优先搜索DFS\"\"\"\n",
    "class Solution:\n",
    "    def TreeDepth(self, pRoot):\n",
    "        if not pRoot:\n",
    "            return 0\n",
    "        return max(self.TreeDepth(pRoot.left), self.TreeDepth(pRoot.right)) + 1\n"
   ]
  },
  {
   "cell_type": "markdown",
   "metadata": {},
   "source": [
    "# 《39》平衡二叉树[原题](https://www.nowcoder.com/practice/8b3b95850edb4115918ecebdf1b4d222?tpId=13&tqId=11192&rp=2&ru=/ta/coding-interviews&qru=/ta/coding-interviews/question-ranking)"
   ]
  },
  {
   "cell_type": "code",
   "execution_count": 39,
   "metadata": {},
   "outputs": [],
   "source": [
    "\"\"\"思路：最直接的做法，遍历每个结点，借助一个获取树深度的递归函数，\n",
    "根据该结点的左右子树高度差判断是否平衡，然后递归地对左右子树进行判断。\"\"\"\n",
    "class Solution:\n",
    "    def IsBalanced_Solution(self, pRoot):\n",
    "        if not pRoot:\n",
    "            return True\n",
    "        else:\n",
    "            def balance(node):  #定义一个判断是否左节点和右节点的高度之差大于1的函数\n",
    "                if not node:\n",
    "                    return 0\n",
    "                else:  #DFS\n",
    "                    l = balance(node.left)\n",
    "                    r = balance(node.right)\n",
    "                    return -1 if l == -1 or r == -1 or abs(l - r) > 1 else max(l, r) + 1\n",
    "        return balance(pRoot) != -1\n"
   ]
  },
  {
   "cell_type": "markdown",
   "metadata": {},
   "source": [
    "# 《40》数组中只出现一次的数字[原题](https://www.nowcoder.com/practice/e02fdb54d7524710a7d664d082bb7811?tpId=13&tqId=11193&rp=2&ru=%2Fta%2Fcoding-interviews&qru=%2Fta%2Fcoding-interviews%2Fquestion-ranking&tPage=2)"
   ]
  },
  {
   "cell_type": "code",
   "execution_count": 69,
   "metadata": {},
   "outputs": [],
   "source": [
    "class Solution:\n",
    "    def FindNumsAppearOnce(self, array):\n",
    "        res = []\n",
    "        for i in array:\n",
    "            if i in res:\n",
    "                res.remove(i)\n",
    "            else:\n",
    "                res.append(i)  # 存在就移除否则就加入，所以最后留下来的就是只出现一次的数字\n",
    "        return res\n"
   ]
  },
  {
   "cell_type": "markdown",
   "metadata": {},
   "source": [
    "# 《41》和为S的连续正数序列[原题](https://www.nowcoder.com/practice/c451a3fd84b64cb19485dad758a55ebe?tpId=13&tqId=11194&rp=2&ru=/ta/coding-interviews&qru=/ta/coding-interviews/question-ranking)"
   ]
  },
  {
   "cell_type": "code",
   "execution_count": 41,
   "metadata": {},
   "outputs": [],
   "source": [
    "\"\"\"思路：连续，正数，之和，比如：a = [1,2,3,4],sum(a)=10,联想到(1+4)+(2+3)+(3+2)+(4+1)==5*4==10==2*sum,start=1,end=4;\n",
    "b = [1,2,3,4,5],sum(b)=15,联想到(1+5)+(2+4)+(3+3)+(4+2)+(5+1)==6*5==30==2*sum,start=1,end=5;\n",
    "PS:破题关键在于sum乘上2\n",
    "\"\"\"\n",
    "class Solution:\n",
    "    def FindContinuousSequence(self, tsum):\n",
    "        if tsum < 2:\n",
    "            return []\n",
    "        else:\n",
    "            res = []\n",
    "            bound = tsum / 2 + 2\n",
    "            for start in range(1, bound):  #因为是连续正数，所以start不会超过tsum/2+2\n",
    "                for end in range(start + 1, bound):\n",
    "                    if (start + end) * (end + 1 - start) == 2 * tsum:\n",
    "                        res.append(range(start, end + 1))\n",
    "        return res\n"
   ]
  },
  {
   "cell_type": "markdown",
   "metadata": {},
   "source": [
    "# 《42》和为S的两个数字[原题](https://www.nowcoder.com/practice/390da4f7a00f44bea7c2f3d19491311b?tpId=13&tqId=11195&rp=2&ru=/ta/coding-interviews&qru=/ta/coding-interviews/question-ranking)"
   ]
  },
  {
   "cell_type": "code",
   "execution_count": 42,
   "metadata": {},
   "outputs": [],
   "source": [
    "class Solution:\n",
    "    \"\"\"注意：如果有多对数字的和等于S，则两个数的乘积最小百分之百是外面两个\"\"\"\n",
    "    def FindNumbersWithSum(self, array, tsum):\n",
    "        # write code here\n",
    "        l = 0\n",
    "        r = len(array) - 1\n",
    "        while l < r:\n",
    "            if array[l] + array[r] == tsum:\n",
    "                return array[l], array[r]\n",
    "            elif array[l] + array[r] > tsum:\n",
    "                r -= 1\n",
    "            elif array[l] + array[r] < tsum:\n",
    "                l += 1\n",
    "        return []\n"
   ]
  },
  {
   "cell_type": "markdown",
   "metadata": {},
   "source": [
    "# 《43》左旋转字符串[原题](https://www.nowcoder.com/practice/12d959b108cb42b1ab72cef4d36af5ec?tpId=13&tqId=11196&rp=2&ru=/ta/coding-interviews&qru=/ta/coding-interviews/question-ranking)"
   ]
  },
  {
   "cell_type": "code",
   "execution_count": 43,
   "metadata": {},
   "outputs": [],
   "source": [
    "class Solution:\n",
    "    def LeftRotateString(self, s, n):\n",
    "        return s[n:] + s[:n]"
   ]
  },
  {
   "cell_type": "markdown",
   "metadata": {},
   "source": [
    "# 《44》翻转单词顺序列[原题](https://www.nowcoder.com/practice/3194a4f4cf814f63919d0790578d51f3?tpId=13&tqId=11197&rp=2&ru=/ta/coding-interviews&qru=/ta/coding-interviews/question-ranking)"
   ]
  },
  {
   "cell_type": "code",
   "execution_count": 44,
   "metadata": {},
   "outputs": [],
   "source": [
    "\"\"\"思路：空格分割，再用[::-1]翻转，再用\" \".join()方法连接\"\"\"\n",
    "class Solution:\n",
    "    def ReverseSentence(self, s):\n",
    "        return \" \".join(s.split(\" \")[::-1])\n"
   ]
  },
  {
   "cell_type": "markdown",
   "metadata": {},
   "source": [
    "# 《45》扑克牌顺子[原题](https://www.nowcoder.com/practice/762836f4d43d43ca9deb273b3de8e1f4?tpId=13&tqId=11198&rp=2&ru=/ta/coding-interviews&qru=/ta/coding-interviews/question-ranking)"
   ]
  },
  {
   "cell_type": "code",
   "execution_count": 45,
   "metadata": {},
   "outputs": [],
   "source": [
    "\"\"\"思路：统计扑克牌中大小王的数量zero_num,将扑克牌按大小顺序排序，依次求得相邻两数之差也就是所需的王牌数，循环之后再判断是否还剩下王牌\"\"\"\n",
    "class Solution:\n",
    "    def IsContinuous(self, numbers):\n",
    "        if len(numbers) != 5:\n",
    "            return False\n",
    "        else:\n",
    "            res = [i for i in numbers if i > 0]  #检索非王牌扑克\n",
    "            if len(res) != len(set(res)):\n",
    "                return False\n",
    "            else:\n",
    "                res.sort()\n",
    "                zero_num = len(numbers) - len(res)\n",
    "                for i in range(len(res) - 1):\n",
    "                    zero_need = res[i + 1] - res[i] - 1  #相邻两数之差\n",
    "                    zero_num -= zero_need  #逐次减去所需王牌数\n",
    "        return zero_num >= 0\n"
   ]
  },
  {
   "cell_type": "markdown",
   "metadata": {},
   "source": [
    "# 《46》孩子们的游戏(圆圈中最后剩下的数)[原题](https://www.nowcoder.com/practice/f78a359491e64a50bce2d89cff857eb6?tpId=13&tqId=11199&rp=2&ru=/ta/coding-interviews&qru=/ta/coding-interviews/question-ranking)"
   ]
  },
  {
   "cell_type": "code",
   "execution_count": 46,
   "metadata": {},
   "outputs": [],
   "source": [
    "\"\"\"\n",
    "思路：约瑟夫环问题，模拟这个过程就可以得出结果\n",
    "\"\"\"\n",
    "class Solution:\n",
    "    def LastRemaining_Solution(self, n, m):\n",
    "        if not m or not n:\n",
    "            return -1\n",
    "        else:\n",
    "            res = list(range(n))  #标记\n",
    "            start = 0\n",
    "            while n:\n",
    "                k = (start + m - 1) % n  #按顺序数被踢出游戏的人\n",
    "                start = k\n",
    "                n -= 1\n",
    "                final = res.pop(k)  #按标记被踢出游戏的人\n",
    "        return final\n"
   ]
  },
  {
   "cell_type": "markdown",
   "metadata": {},
   "source": [
    "# 《47》求1+2+3+...+n[原题](https://www.nowcoder.com/practice/7a0da8fc483247ff8800059e12d7caf1?tpId=13&tqId=11200&rp=2&ru=/ta/coding-interviews&qru=/ta/coding-interviews/question-ranking)"
   ]
  },
  {
   "cell_type": "code",
   "execution_count": 47,
   "metadata": {},
   "outputs": [],
   "source": [
    "\"\"\"解题思路：\n",
    "1.需利用逻辑与的短路特性实现递归终止。 \n",
    "2.当n==0时，ans and self.Sum_Solution(n-1)只执行前面的判断，此时递归停止，temp为false，然后函数直接返回0；\n",
    "3.当n>0时，执行sum+=Sum_Solution(n-1)，实现递归计算Sum_Solution(n)\"\"\"\n",
    "class Solution:\n",
    "    def Sum_Solution(self, n):\n",
    "        ans = n\n",
    "        temp = ans and self.Sum_Solution(n - 1)\n",
    "        ans = ans + temp\n",
    "        return ans\n",
    "\n",
    "\n",
    "\"\"\"或者也可以直接用递归\"\"\"\n",
    "class Solution:\n",
    "    def Sum_Solution(self, n):\n",
    "        return n + self.Sum_Solution(n - 1) if n else 0  #递归终止条件：当n==0时，函数返回为0。\n"
   ]
  },
  {
   "cell_type": "markdown",
   "metadata": {},
   "source": [
    "# 《48》不用加减乘除做加法[原题](https://www.nowcoder.com/practice/59ac416b4b944300b617d4f7f111b215?tpId=13&tqId=11201&rp=2&ru=/ta/coding-interviews&qru=/ta/coding-interviews/question-ranking)"
   ]
  },
  {
   "cell_type": "code",
   "execution_count": 48,
   "metadata": {},
   "outputs": [],
   "source": [
    "\"\"\"位运算太复杂：直接用sum()开干！\"\"\"\n",
    "class Solution:\n",
    "    def Add(self, num1, num2):\n",
    "        return sum([num1, num2])\n"
   ]
  },
  {
   "cell_type": "markdown",
   "metadata": {},
   "source": [
    "# 《49》把字符串转换成整数[原题](https://www.nowcoder.com/practice/1277c681251b4372bdef344468e4f26e?tpId=13&tqId=11202&rp=2&ru=/ta/coding-interviews&qru=/ta/coding-interviews/question-ranking)"
   ]
  },
  {
   "cell_type": "code",
   "execution_count": 49,
   "metadata": {},
   "outputs": [],
   "source": [
    "\"\"\"思路：将字符串数字和对应索引发生转化就可以了，需要用到index()函数，另外需判别正负\"\"\"\n",
    "class Solution:\n",
    "    def StrToInt(self, s):\n",
    "        sumV = 0\n",
    "        flag = 1\n",
    "        list_num = [\"0\", \"1\", \"2\", \"3\", \"4\", \"5\", \"6\", \"7\", \"8\", \"9\"]  #重点\n",
    "        if s == \"\":\n",
    "            return 0\n",
    "        if s[0] == \"+\":  #判断首位字符是否为\"+\",注意这里的搭配只能是if--elif，自己想\n",
    "            flag = 1\n",
    "            s = s[1:]\n",
    "        elif s[0] == \"-\":  #判断首位字符是否为\"-\"\n",
    "            flag = -1\n",
    "            s = s[1:]\n",
    "        for i in s:\n",
    "            if i in list_num:\n",
    "                sumV = sumV * 10 + list_num.index(i)  #重点\n",
    "            else:\n",
    "                return 0\n",
    "        return sumV * flag\n"
   ]
  },
  {
   "cell_type": "markdown",
   "metadata": {},
   "source": [
    "# 《50》数组中重复的数字[原题](https://www.nowcoder.com/practice/623a5ac0ea5b4e5f95552655361ae0a8?tpId=13&tqId=11203&rp=2&ru=/ta/coding-interviews&qru=/ta/coding-interviews/question-ranking)"
   ]
  },
  {
   "cell_type": "code",
   "execution_count": 50,
   "metadata": {},
   "outputs": [],
   "source": [
    "\"\"\"\n",
    "方法1：比较牛逼\n",
    "不需要额外的数组或者hash table来保存，题目里写了数组里数字的范围保证在0到n-1 之间，\n",
    "所以可以利用现有数组设置标志，当一个数字被访问过后，可以在对应“位置”上的数 + n，\n",
    "之后再遇到相同的“位置”时，会发现对应“位置”上的数已经大于等于n了（被访问过了），那么直接返回这个位置即可。\"\"\"\n",
    "class Solution:\n",
    "    def duplicate(self, numbers, duplication):\n",
    "        length = len(numbers)\n",
    "        for i in range(length):\n",
    "            index = numbers[i]\n",
    "            #             print(index,numbers)\n",
    "            if index >= length:\n",
    "                index -= length\n",
    "            if numbers[index] >= length:\n",
    "                duplication[0] = index\n",
    "                #                 print(index,numbers)\n",
    "                return True\n",
    "            numbers[index] = numbers[index] + length\n",
    "        return False\n",
    "\n",
    "\n",
    "\"\"\"\n",
    "方法2：hashmap\n",
    "\"\"\"\n",
    "class Solution:\n",
    "    def duplicate(self, numbers, duplication):\n",
    "        res = []\n",
    "        for i in numbers:\n",
    "            if i in res:\n",
    "                duplication[0] = i\n",
    "                return True\n",
    "            else:\n",
    "                res.append(i)\n",
    "        return False\n"
   ]
  },
  {
   "cell_type": "markdown",
   "metadata": {},
   "source": [
    "# 《51》构建乘积数组[原题](https://www.nowcoder.com/practice/94a4d381a68b47b7a8bed86f2975db46?tpId=13&tqId=11204&rp=2&ru=/ta/coding-interviews&qru=/ta/coding-interviews/question-ranking)"
   ]
  },
  {
   "cell_type": "markdown",
   "metadata": {},
   "source": [
    "<img src=\"https://uploadfiles.nowcoder.net/images/20160829/841505_1472459965615_8640A8F86FB2AB3117629E2456D8C652\" width=200 height=200>"
   ]
  },
  {
   "cell_type": "code",
   "execution_count": 51,
   "metadata": {},
   "outputs": [],
   "source": [
    "\"\"\"\n",
    "方法1：简单易懂,复杂度o(n**2)\n",
    "\"\"\"\n",
    "class Solution:\n",
    "    def multiply(self, A):\n",
    "        B = [i for i in A]\n",
    "        for i in range(len(A)):\n",
    "            tmp = 1\n",
    "            for j in range(len(A)):\n",
    "                if j != i:\n",
    "                    tmp = tmp * A[j]\n",
    "            B[i] = tmp\n",
    "        return B\n",
    "\n",
    "\n",
    "\"\"\"\n",
    "方法2：思路：按上图把每行被1分割的两部分乘积都计算出来，分别为head和tail，\n",
    "这样可以从首尾分别用累乘算出两个列表，然后两个列表首尾相乘就是B的元素,看不懂的话可以打印print\n",
    "\"\"\"\n",
    "class Solution:\n",
    "    def multiply(self, A):\n",
    "        head = [1]\n",
    "        tail = [1]\n",
    "        for i in range(len(A) - 1):\n",
    "            head.append(A[i] * head[i])  #保存每行头部\n",
    "            tail.append(A[-i - 1] * tail[i])  #保存每行尾部\n",
    "        tail.reverse()  #翻转\n",
    "        #         print(\"head:\",head)\n",
    "        #         print(\"tail:\",tail)\n",
    "        return [head[j] * tail[j] for j in range(len(head))]  #首尾相乘\n",
    "# Solution().multiply([3,4,2])\n"
   ]
  },
  {
   "cell_type": "markdown",
   "metadata": {},
   "source": [
    "# 《52》正则表达式匹配[原题](https://www.nowcoder.com/practice/45327ae22b7b413ea21df13ee7d6429c?tpId=13&tqId=11205&rp=2&ru=/ta/coding-interviews&qru=/ta/coding-interviews/question-ranking)"
   ]
  },
  {
   "cell_type": "code",
   "execution_count": 52,
   "metadata": {},
   "outputs": [],
   "source": [
    "\"\"\"解这题需要把题意仔细研究清楚，反正我试了好多次才明白的。\n",
    "    首先，考虑特殊情况：\n",
    "         1>两个字符串都为空，返回true\n",
    "         2>当第一个字符串不空，而第二个字符串空了，返回false（因为这样，就无法\n",
    "            匹配成功了,而如果第一个字符串空了，第二个字符串非空，还是可能匹配成\n",
    "            功的，比如第二个字符串是“a*a*a*a*”,由于‘*’之前的元素可以出现0次，\n",
    "            所以有可能匹配成功）\n",
    "    之后就开始匹配第一个字符，这里有两种可能：匹配成功或匹配失败。但考虑到pattern\n",
    "    下一个字符可能是‘*’， 这里我们分两种情况讨论：pattern下一个字符为‘*’或\n",
    "    不为‘*’：\n",
    "          1>pattern下一个字符不为‘*’：这种情况比较简单，直接匹配当前字符。如果\n",
    "            匹配成功，继续匹配下一个；如果匹配失败，直接返回false。注意这里的\n",
    "            “匹配成功”，除了两个字符相同的情况外，还有一种情况，就是pattern的\n",
    "            当前字符为‘.’,同时str的当前字符不为‘\\0’。\n",
    "          2>pattern下一个字符为‘*’时，稍微复杂一些，因为‘*’可以代表0个或多个。\n",
    "            这里把这些情况都考虑到：\n",
    "               a>当‘*’匹配0个字符时，str当前字符不变，pattern当前字符后移两位，\n",
    "                跳过这个‘*’符号；\n",
    "               b>当‘*’匹配1个或多个时，str当前字符移向下一个，pattern当前字符\n",
    "                不变。（这里匹配1个或多个可以看成一种情况，因为：当匹配一个时，\n",
    "                由于str移到了下一个字符，而pattern字符不变，就回到了上边的情况a；\n",
    "                当匹配多于一个字符时，相当于从str的下一个字符继续开始匹配）\n",
    "    之后再写代码就很简单了。\"\"\"\n",
    "class Solution:\n",
    "    # s, pattern都是字符串\n",
    "    def match(self, s, pattern):\n",
    "        if len(s) == 0 and len(pattern) == 0:\n",
    "            return True\n",
    "        if len(s) != 0 and len(pattern) == 0:\n",
    "            return False\n",
    "        if len(pattern) > 1 and pattern[1] == \"*\":\n",
    "            if len(s) > 0 and (s[0] == pattern[0] or pattern[0] == \".\"):\n",
    "                return self.match(s, pattern[2:]) or self.match(s[1:], pattern[2:]) or self.match(s[1:], pattern)\n",
    "            else:\n",
    "                return self.match(s, pattern[2:])\n",
    "        if len(s) > 0 and (s[0] == pattern[0] or pattern[0] == \".\"):\n",
    "            return self.match(s[1:], pattern[1:])\n",
    "        return False\n"
   ]
  },
  {
   "cell_type": "markdown",
   "metadata": {},
   "source": [
    "# 《53》表示数值的字符串[原题](https://www.nowcoder.com/practice/6f8c901d091949a5837e24bb82a731f2?tpId=13&tqId=11206&rp=2&ru=/ta/coding-interviews&qru=/ta/coding-interviews/question-ranking)"
   ]
  },
  {
   "cell_type": "code",
   "execution_count": 53,
   "metadata": {},
   "outputs": [],
   "source": [
    "class Solution:\n",
    "    # s字符串\n",
    "    def isNumeric(self, s):\n",
    "        import re\n",
    "        return re.match(r\"[\\+\\-]?[0-9]*(\\.[0-9]*)?([eE][\\+\\-]?[0-9]+)?$\", s)\n"
   ]
  },
  {
   "cell_type": "markdown",
   "metadata": {},
   "source": [
    "# 《54》字符流中第一个不重复的字符[原题](https://www.nowcoder.com/practice/00de97733b8e4f97a3fb5c680ee10720?tpId=13&tqId=11207&rp=2&ru=/ta/coding-interviews&qru=/ta/coding-interviews/question-ranking)"
   ]
  },
  {
   "cell_type": "code",
   "execution_count": 54,
   "metadata": {},
   "outputs": [],
   "source": [
    "\"\"\"思路：用内建count函数效率高，注意是字符流，自加\"\"\"\n",
    "class Solution:\n",
    "    # 返回对应char\n",
    "    def __init__(self):\n",
    "        self.c = \"\"\n",
    "        self.res = []\n",
    "    def FirstAppearingOnce(self):\n",
    "        res = list(filter(lambda s: self.c.count(s) == 1, self.c))\n",
    "        return res[0] if res != [] else \"#\"\n",
    "    def Insert(self, char):\n",
    "        self.c += char\n"
   ]
  },
  {
   "cell_type": "markdown",
   "metadata": {},
   "source": [
    "# 《55》链表中环的入口结点[原题](https://www.nowcoder.com/practice/253d2c59ec3e4bc68da16833f79a38e4?tpId=13&tqId=11208&rp=2&ru=/ta/coding-interviews&qru=/ta/coding-interviews/question-ranking)"
   ]
  },
  {
   "cell_type": "markdown",
   "metadata": {},
   "source": [
    "<img src=\"https://uploadfiles.nowcoder.net/images/20170311/646147_1489199577531_5B1EFEB8A03B04A4781BC78AC00B89CE\" width=300 height=300>"
   ]
  },
  {
   "cell_type": "code",
   "execution_count": 55,
   "metadata": {},
   "outputs": [],
   "source": [
    "\"\"\"\n",
    "第一步，找环中相汇点。分别用p1，p2指向链表头部，p1每次走一步，p2每次走二步，\n",
    "直到p1==p2找到在环中的相汇点。\n",
    "第二步，找环的入口。接上步，当p1==p2时，p2所经过节点数为2x,p1所经过节点数为x,\n",
    "设环中有n个节点,p2比p1多走一圈有2x=n+x; n=x;可以看出p1实际走了一个环的步数，\n",
    "这时候p1位置继续走到环入口点的距离==起点到环入口点的距离\n",
    "再让p2指向链表头部，p1位置不变，p1,p2每次走一步直到p1==p2; 此时p1指向环的入口。\n",
    "\"\"\"\n",
    "class Solution:\n",
    "    def EntryNodeOfLoop(self, pHead):\n",
    "        if not pHead:\n",
    "            return None\n",
    "        p1 = pHead\n",
    "        p2 = pHead\n",
    "        while p1 and p1.next:\n",
    "            p1 = p1.next.next  #走两步\n",
    "            p2 = p2.next\n",
    "            if p1 == p2:  #如果存在环\n",
    "                p2 = pHead\n",
    "                while p1 != p2:\n",
    "                    p1 = p1.next\n",
    "                    p2 = p2.next\n",
    "                return p1\n",
    "        return None\n"
   ]
  },
  {
   "cell_type": "markdown",
   "metadata": {},
   "source": [
    "# 《56》删除链表中重复的结点[原题](https://www.nowcoder.com/practice/fc533c45b73a41b0b44ccba763f866ef?tpId=13&tqId=11209&rp=2&ru=/ta/coding-interviews&qru=/ta/coding-interviews/question-ranking)"
   ]
  },
  {
   "cell_type": "markdown",
   "metadata": {},
   "source": [
    "<img src=\"https://uploadfiles.nowcoder.net/images/20160912/1596387_1473616154125_4A47A0DB6E60853DEDFCFDF08A5CA249\" width=400 height=300>"
   ]
  },
  {
   "cell_type": "code",
   "execution_count": 56,
   "metadata": {},
   "outputs": [],
   "source": [
    "\"\"\"\n",
    "1.加一个头结点\n",
    "2.两个临时指针pre,cur\n",
    "3.找前后不相等的节点\n",
    "\"\"\"\n",
    "class Solution:\n",
    "    def deleteDuplication(self, pHead):\n",
    "        d = ListNode(0)\n",
    "        d.next = pHead\n",
    "        #定义两个指针用来去掉指针之间的值可以被去掉\n",
    "        pre = d\n",
    "        cur = pHead\n",
    "        while cur:\n",
    "            if cur.next and cur.next.val == cur.val:\n",
    "                temp = cur.next  #储存开始重复节点，使得cur可以暂时固定住\n",
    "                while temp and temp.val == cur.val:  #一定是从temp.val开始\n",
    "                    temp = temp.next\n",
    "                pre.next = temp\n",
    "                cur = temp\n",
    "            else:\n",
    "                pre = cur\n",
    "                cur = cur.next\n",
    "        return d.next  #只能是d.next当作头部而不能是pHead\n"
   ]
  },
  {
   "cell_type": "markdown",
   "metadata": {},
   "source": [
    "# 《57》二叉树的下一个结点[原题](https://www.nowcoder.com/practice/9023a0c988684a53960365b889ceaf5e?tpId=13&tqId=11210&rp=2&ru=/ta/coding-interviews&qru=/ta/coding-interviews/question-ranking)"
   ]
  },
  {
   "cell_type": "code",
   "execution_count": 57,
   "metadata": {},
   "outputs": [],
   "source": [
    "\"\"\"\n",
    "1.二叉树为空，则返回空；\n",
    "2.节点右孩子存在，则设置一个指针从该节点的右孩子出发，一直沿着指向左子结点的指针找到的叶子节点即为下一个节点；\n",
    "3.节点不是根节点。如果该节点是其父节点的左孩子，则返回父节点；否则继续向上遍历其父节点的父节点，重复之前的判断，返回结果。\"\"\"\n",
    "class Solution:\n",
    "    def GetNext(self, pNode):\n",
    "        if not pNode:  #情况1\n",
    "            return None\n",
    "        while pNode.right:  #情况2\n",
    "            tmp = pNode.right\n",
    "            while tmp.left:\n",
    "                tmp = tmp.left\n",
    "            return tmp\n",
    "        while pNode.next:  #情况3\n",
    "            tmp = pNode.next\n",
    "            if tmp.left == pNode:\n",
    "                return tmp\n",
    "            else:\n",
    "                pNode = pNode.next\n"
   ]
  },
  {
   "cell_type": "markdown",
   "metadata": {},
   "source": [
    "# 《58》对称的二叉树[原题](https://www.nowcoder.com/practice/ff05d44dfdb04e1d83bdbdab320efbcb?tpId=13&tqId=11211&rp=2&ru=/ta/coding-interviews&qru=/ta/coding-interviews/question-ranking)"
   ]
  },
  {
   "cell_type": "code",
   "execution_count": 58,
   "metadata": {},
   "outputs": [],
   "source": [
    "\"\"\"首先根节点以及其左右子树，左子树的左子树和右子树的右子树相同,\n",
    "左子树的右子树和右子树的左子树相同即可，采用递归\n",
    "\"\"\"\n",
    "class Solution:\n",
    "    def isSymmetrical(self, pRoot):\n",
    "        if not pRoot:\n",
    "            return True\n",
    "        def same(left, right):\n",
    "            if not left and not right:\n",
    "                return True\n",
    "            elif left and right and left.val == right.val:\n",
    "                return same(left.left, right.right) and same(left.right, right.left)  #左右，右左\n",
    "            else:\n",
    "                return False\n",
    "        return same(pRoot.left, pRoot.right)\n"
   ]
  },
  {
   "cell_type": "markdown",
   "metadata": {},
   "source": [
    "# 《59》按之字形顺序打印二叉树[原题](https://www.nowcoder.com/practice/91b69814117f4e8097390d107d2efbe0?tpId=13&tqId=11212&rp=2&ru=/ta/coding-interviews&qru=/ta/coding-interviews/question-ranking)"
   ]
  },
  {
   "cell_type": "code",
   "execution_count": 59,
   "metadata": {},
   "outputs": [],
   "source": [
    "\"\"\"\n",
    "广度优先遍历，奇层数保留原始队列，偶层数进行reverse操作\n",
    "\"\"\"\n",
    "class Solution:\n",
    "    def Print(self, pRoot):\n",
    "        if not pRoot:\n",
    "            return []\n",
    "        res = []\n",
    "        level = [pRoot]\n",
    "        convert = False\n",
    "        while level:\n",
    "            curlevel = []\n",
    "            nextlevel = []\n",
    "            while level:\n",
    "                cur = level.pop(0)\n",
    "                curlevel.append(cur.val)\n",
    "                if cur.left:\n",
    "                    nextlevel.append(cur.left)\n",
    "                if cur.right:\n",
    "                    nextlevel.append(cur.right)\n",
    "            if convert:\n",
    "                curlevel.reverse()\n",
    "            res.append(curlevel)\n",
    "            level = nextlevel\n",
    "            convert = not convert\n",
    "        return res\n"
   ]
  },
  {
   "cell_type": "markdown",
   "metadata": {},
   "source": [
    "# 《60》把二叉树打印成多行[原题](https://www.nowcoder.com/practice/445c44d982d04483b04a54f298796288?tpId=13&tqId=11213&rp=2&ru=/ta/coding-interviews&qru=/ta/coding-interviews/question-ranking)"
   ]
  },
  {
   "cell_type": "code",
   "execution_count": 60,
   "metadata": {},
   "outputs": [],
   "source": [
    "class Solution:\n",
    "    def __init__(self):\n",
    "        self.flag = -1\n",
    "    def Serialize(self, root):\n",
    "        if not root:\n",
    "            return \"#,\"\n",
    "        return str(root.val) + \",\" + self.Serialize(root.left) + self.Serialize(root.right)  # 先序遍历\n",
    "    def Deserialize(self, s):  # 二叉树重建\n",
    "        self.flag += 1\n",
    "        l = s.split(',')\n",
    "        if self.flag >= len(s):  # 递归终止条件\n",
    "            return None\n",
    "        root = None\n",
    "        if l[self.flag] != \"#\":\n",
    "            root = TreeNode(int(l[self.flag]))\n",
    "            root.left = self.Deserialize(s)\n",
    "            root.right = self.Deserialize(s)\n",
    "        return root\n"
   ]
  },
  {
   "cell_type": "markdown",
   "metadata": {},
   "source": [
    "# 《60》序列化二叉树[原题](https://www.nowcoder.com/practice/cf7e25aa97c04cc1a68c8f040e71fb84?tpId=13&tqId=11214&rp=2&ru=/ta/coding-interviews&qru=/ta/coding-interviews/question-ranking)"
   ]
  },
  {
   "cell_type": "code",
   "execution_count": 61,
   "metadata": {},
   "outputs": [],
   "source": [
    "class Solution:\n",
    "    def __init__(self):\n",
    "        self.flag = -1\n",
    "    def Serialize(self, root):\n",
    "        if not root:\n",
    "            return \"#,\"\n",
    "        return str(root.val) + \",\" + self.Serialize(root.left) + self.Serialize(root.right)  # 中序遍历\n",
    "    def Deserialize(self, s):\n",
    "        self.flag += 1\n",
    "        l = s.split(',')\n",
    "        if self.flag >= len(s):  # 递归终止条件\n",
    "            return None\n",
    "        root = None\n",
    "        if l[self.flag] != \"#\":\n",
    "            root = TreeNode(int(l[self.flag]))\n",
    "            root.left = self.Deserialize(s)  #\n",
    "            root.right = self.Deserialize(s)\n",
    "        return root\n"
   ]
  },
  {
   "cell_type": "markdown",
   "metadata": {},
   "source": [
    "# 《61》二叉搜索树的第k个结点[原题](https://www.nowcoder.com/practice/ef068f602dde4d28aab2b210e859150a?tpId=13&tqId=11215&rp=2&ru=/ta/coding-interviews&qru=/ta/coding-interviews/question-ranking)"
   ]
  },
  {
   "cell_type": "code",
   "execution_count": 62,
   "metadata": {},
   "outputs": [],
   "source": [
    "\"\"\"\n",
    "思路：题目要求第k个小的结点，利用二叉搜索树中序遍历是从小到大的序列的特性\n",
    "方法1：采用了非递归的中序遍历\n",
    "\"\"\"\n",
    "class Solution:\n",
    "    def KthNode(self, pRoot, k):\n",
    "        self.res = []\n",
    "        self.dfs(pRoot)\n",
    "        return self.res[k - 1] if 0 < k <= len(self.res) else None\n",
    "    def dfs(self, root):\n",
    "        if not root: return\n",
    "        self.dfs(root.left)\n",
    "        self.res.append(root)\n",
    "        self.dfs(root.right)\n",
    "\n",
    "\n",
    "\"\"\"方法2：递归法，用栈实现\"\"\"\n",
    "class Solution:\n",
    "    def KthNode(self, pRoot, k):\n",
    "        stack = []\n",
    "        res = []\n",
    "        while stack or pRoot:\n",
    "            while pRoot:\n",
    "                stack.append(pRoot)\n",
    "                pRoot = pRoot.left\n",
    "            if stack:\n",
    "                pRoot = stack.pop()\n",
    "                res.append(pRoot)\n",
    "                if len(res) == k:\n",
    "                    return res[-1]\n",
    "                pRoot = pRoot.right\n"
   ]
  },
  {
   "cell_type": "markdown",
   "metadata": {},
   "source": [
    "# 《62》数据流中的中位数[原题](https://www.nowcoder.com/practice/9be0172896bd43948f8a32fb954e1be1?tpId=13&tqId=11216&rp=2&ru=/ta/coding-interviews&qru=/ta/coding-interviews/question-ranking)"
   ]
  },
  {
   "cell_type": "code",
   "execution_count": 63,
   "metadata": {},
   "outputs": [],
   "source": [
    "class Solution:\n",
    "    def __init__(self):\n",
    "        self.char = []\n",
    "    def Insert(self, num):\n",
    "        self.char.append(num)\n",
    "        self.char.sort()\n",
    "    def GetMedian(self, v):\n",
    "        if not self.char:\n",
    "            return None\n",
    "        else:\n",
    "            n = len(self.char)\n",
    "            if not n % 2:\n",
    "                \"\"\"偶数\"\"\"\n",
    "                A = self.char[n / 2]\n",
    "                B = self.char[n / 2 - 1]\n",
    "                return (A + B) / 2.0\n",
    "            else:\n",
    "                return self.char[n / 2]\n"
   ]
  },
  {
   "cell_type": "markdown",
   "metadata": {},
   "source": [
    "# 《63》滑动窗口的最大值[原题](https://www.nowcoder.com/practice/1624bc35a45c42c0bc17d17fa0cba788?tpId=13&tqId=11217&rp=2&ru=/ta/coding-interviews&qru=/ta/coding-interviews/question-ranking)"
   ]
  },
  {
   "cell_type": "code",
   "execution_count": 64,
   "metadata": {},
   "outputs": [],
   "source": [
    "class Solution:\n",
    "    def maxInWindows(self, num, size):\n",
    "        if size == len(num):\n",
    "            return [max(num)]\n",
    "        elif not size or size > len(num):\n",
    "            return []\n",
    "        res = []\n",
    "        i = 0\n",
    "        while size + i <= len(num):\n",
    "            res.append(max(num[i:(size + i)]))\n",
    "            i += 1\n",
    "        return res\n"
   ]
  },
  {
   "cell_type": "markdown",
   "metadata": {},
   "source": [
    "# 《64》 矩阵中的路径[原题](https://www.nowcoder.com/practice/c61c6999eecb4b8f88a98f66b273a3cc?tpId=13&tqId=11218&rp=2&ru=/ta/coding-interviews&qru=/ta/coding-interviews/question-ranking)"
   ]
  },
  {
   "cell_type": "code",
   "execution_count": 65,
   "metadata": {},
   "outputs": [],
   "source": [
    "\"\"\"\n",
    "回溯\n",
    "基本思想：\n",
    "0.根据给定数组，初始化一个标志位数组，初始化为false，表示未走过，true表示已经走过，不能走第二次\n",
    "1.根据行数和列数，遍历数组，先找到一个与str字符串的第一个元素相匹配的矩阵元素，进入judge\n",
    "\"\"\"\n",
    "class Solution:\n",
    "    def hasPath(self, matrix, rows, cols, path):\n",
    "        for i in range(rows):\n",
    "            for j in range(cols):\n",
    "                if matrix[i * cols + j] == path[0]:  #匹配开始\n",
    "                    if self.find(list(matrix), rows, cols, path[1:], i, j) == \"yes\":\n",
    "                        return True\n",
    "        return False\n",
    "    def find(self, matrix, rows, cols, path, i, j):\n",
    "        if not path:  #递归终止条件\n",
    "            return \"yes\"\n",
    "        matrix[i * cols + j] = '0'  #走过的点就要标记\n",
    "        if j + 1 < cols and matrix[i * cols + j + 1] == path[0]:  #向右找\n",
    "            return self.find(matrix, rows, cols, path[1:], i, j + 1)\n",
    "        elif j - 1 >= 0 and matrix[i * cols + j - 1] == path[0]:  #向左找\n",
    "            return self.find(matrix, rows, cols, path[1:], i, j - 1)\n",
    "        elif i + 1 < rows and matrix[(i + 1) * cols + j] == path[0]:  #向上找\n",
    "            return self.find(matrix, rows, cols, path[1:], i + 1, j)\n",
    "        elif i - 1 >= 0 and matrix[(i - 1) * cols + j] == path[0]:  #向下找\n",
    "            return self.find(matrix, rows, cols, path[1:], i - 1, j)\n",
    "        else:\n",
    "            return \"no\"\n"
   ]
  },
  {
   "cell_type": "markdown",
   "metadata": {},
   "source": [
    "# 《65》机器人的运动范围[原题](https://www.nowcoder.com/practice/6e5207314b5241fb83f2329e89fdecc8?tpId=13&tqId=11219&rp=2&ru=/ta/coding-interviews&qru=/ta/coding-interviews/question-ranking)"
   ]
  },
  {
   "cell_type": "code",
   "execution_count": 66,
   "metadata": {},
   "outputs": [],
   "source": [
    "\"\"\"思路：DFS，同时往四个方向\"\"\"\n",
    "class Solution:\n",
    "    def movingCount(self, threshold, rows, cols):\n",
    "        # write code here\n",
    "        vis = [[0 for i in range(cols)] for j in range(rows)]\n",
    "        def DFS(x, y):\n",
    "            if x >= 0 and x < rows and y >= 0 and y < cols and vis[x][y] == 0 and \\\n",
    "                    sum(map(int, str(x) + str(y))) <= threshold:\n",
    "                vis[x][y] = 1  #标记走过的点，避免下次再次走入\n",
    "                return DFS(x - 1, y) + DFS(x + 1, y) + DFS(x, y + 1) + DFS(x, y - 1) + 1\n",
    "            else:\n",
    "                return 0\n",
    "        return DFS(0, 0)\n"
   ]
  }
 ],
 "metadata": {
  "kernelspec": {
   "display_name": "Python 3",
   "language": "python",
   "name": "python3"
  },
  "language_info": {
   "codemirror_mode": {
    "name": "ipython",
    "version": 3
   },
   "file_extension": ".py",
   "mimetype": "text/x-python",
   "name": "python",
   "nbconvert_exporter": "python",
   "pygments_lexer": "ipython3",
   "version": "3.6.5"
  }
 },
 "nbformat": 4,
 "nbformat_minor": 2
}
