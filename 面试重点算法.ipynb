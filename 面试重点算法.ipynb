{
 "cells": [
  {
   "cell_type": "markdown",
   "metadata": {},
   "source": [
    "# 二叉树的实现与遍历"
   ]
  },
  {
   "cell_type": "code",
   "execution_count": null,
   "metadata": {},
   "outputs": [],
   "source": [
    "class Node():\n",
    "    def __init__(self,item):\n",
    "        self.val=item\n",
    "        self.left=None\n",
    "        self.right=None\n",
    "class Tree(object):\n",
    "    def __init__(self,r):\n",
    "        self.root=Node(r)#初始根节点为5\n",
    "    def add(self,item):\n",
    "        \"\"\"\n",
    "        在缺失的地方添加元素，按照从上到下，从左到右的原则\n",
    "        \"\"\"\n",
    "        node = Node(item)\n",
    "        if self.root == None:\n",
    "            self.root=node#直接加到根节点，然后退出，一定要加return，要不然会一直循环运行\n",
    "            return\n",
    "        queue = [self.root]\n",
    "        while queue:\n",
    "            cur_node = queue.pop(0)\n",
    "            if cur_node.left is None:\n",
    "                cur_node.left = node\n",
    "                return #退出函数\n",
    "            else:\n",
    "                queue.append(cur_node.left)\n",
    "            if cur_node.right is None:\n",
    "                cur_node.right = node\n",
    "                return #退出函数\n",
    "            else:\n",
    "                queue.append(cur_node.right)\n",
    "    def breadth_travel(self):\n",
    "        \"\"\"\n",
    "        广度遍历，按照从上到下，从左到右的原则\n",
    "        \"\"\"\n",
    "        if self.root == None:\n",
    "            return\n",
    "        queue = [self.root]\n",
    "        res=[]\n",
    "        while queue:\n",
    "            cur_node = queue.pop(0)#先进先出\n",
    "            res.append(cur_node.val)\n",
    "            if cur_node.left:\n",
    "                queue.append(cur_node.left)\n",
    "\n",
    "            if cur_node.right:\n",
    "                queue.append(cur_node.right)\n",
    "        return res\n",
    "    \"\"\"深度遍历\"\"\"\n",
    "    def preorder(self,node):\n",
    "        \"\"\"\n",
    "        先序遍历，根左右，递归的思想\n",
    "        \"\"\"\n",
    "        if node is None:#终止条件不能丢\n",
    "            return\n",
    "        print(node.val,end=\" \")\n",
    "        self.preorder(node.left)\n",
    "        self.preorder(node.right)\n",
    "        \n",
    "    def inorder(self,node):#顺序的差别\n",
    "        \"\"\"\n",
    "        中序遍历，左根右，递归的思想\n",
    "        \"\"\"\n",
    "        if node is None:\n",
    "            return\n",
    "        self.inorder(node.left)\n",
    "        print(node.val,end=\" \")\n",
    "        self.inorder(node.right)\n",
    "        \n",
    "    def postorder(self,node):\n",
    "        \"\"\"\n",
    "        后序遍历，左右根，递归的思想\n",
    "        \"\"\"\n",
    "        if node is None:\n",
    "            return\n",
    "        self.postorder(node.left)\n",
    "        self.postorder(node.right)      \n",
    "        print(node.val,end=\" \")\n",
    "\n",
    "    def preorder1(self, root):\n",
    "        \"\"\"\n",
    "        先序遍历，非递归，栈实现\n",
    "        \"\"\"\n",
    "        res = []\n",
    "        stack = []\n",
    "        while root or stack:\n",
    "            while root:#当根节点存在时，依次加入左节点到栈中。\n",
    "                res.append(root.val)\n",
    "                stack.append(root)\n",
    "                root = root.left#直到为空\n",
    "            if stack:#开始弹出栈顶元素，并加入value值，随后将右子树等于root\n",
    "                root = stack.pop()#后进先出\n",
    "                root = root.right\n",
    "        print(res,end=\" \")\n",
    "    \n",
    "    def inorder1(self, root):\n",
    "        \"\"\"\n",
    "        中序遍历，非递归，栈实现\n",
    "        \"\"\"\n",
    "        res = []\n",
    "        stack = []\n",
    "        while root or stack:\n",
    "            while root:#当根节点存在时，依次加入左节点到栈中。\n",
    "                stack.append(root)\n",
    "                root = root.left#直到为空\n",
    "            if stack:#开始弹出栈顶元素，并加入value值，随后将右子树等于root\n",
    "                t = stack.pop()#后进先出\n",
    "                res.append(t.val)\n",
    "                root = t.right\n",
    "        print(res,end=\" \")\n",
    "        \n",
    "    def postorder1(self, root):\n",
    "        \"\"\"\n",
    "        后序遍历，非递归，栈实现\n",
    "        \"\"\"\n",
    "        res = []\n",
    "        stack = []\n",
    "        while root or stack:\n",
    "            while root:#当根节点存在时，依次加入左节点和右节点到栈中。\n",
    "                stack.append(root)\n",
    "                #能左就左，否则就向右走一步  \n",
    "                root = root.left if root.left else root.right\n",
    "            root = stack.pop()#后进先出\n",
    "            res.append(root.val)\n",
    "            if stack and stack[-1].left == root:#如果父节点存在且当前节点就是其左节点，故需要继续寻找右节点\n",
    "                root  = stack[-1].right \n",
    "            else:#没有右子树或右子树遍历完毕，强迫退栈 \n",
    "                root = None\n",
    "        print(res,end=\" \")\n",
    "\n",
    "\n",
    "if __name__==\"__main__\":\n",
    "    tree=Tree(0)\n",
    "    tree.add(1)\n",
    "    tree.add(2)\n",
    "    tree.add(3)\n",
    "    tree.add(4)\n",
    "    tree.add(5)\n",
    "\n",
    "    print(\"广度遍历\",tree.breadth_travel())\n",
    "    print(\"先序遍历非递归\",end=\" \")#传入根节点\n",
    "    tree.preorder1(tree.root)\n",
    "    print(\" \")\n",
    "    print(\"先序遍历\",end=\" \")#传入根节点\n",
    "    tree.preorder(tree.root)\n",
    "    print(\" \")\n",
    "    print(\"中序遍历非递归\",end=\" \")#传入根节点\n",
    "    tree.inorder1(tree.root)\n",
    "    print(\" \")\n",
    "    print(\"中序遍历\",end=\" \")#传入根节点\n",
    "    tree.inorder(tree.root)\n",
    "    print(\" \")\n",
    "    print(\"后序遍历非递归\",end=\" \")#传入根节点\n",
    "    tree.postorder1(tree.root)\n",
    "    print(\" \")"
   ]
  },
  {
   "cell_type": "markdown",
   "metadata": {},
   "source": [
    "# 二分查找——只能是排好序的表"
   ]
  },
  {
   "cell_type": "code",
   "execution_count": 3,
   "metadata": {},
   "outputs": [
    {
     "data": {
      "text/plain": [
       "True"
      ]
     },
     "execution_count": 3,
     "metadata": {},
     "output_type": "execute_result"
    }
   ],
   "source": [
    "\"\"\"\n",
    "最优时间复杂度：1\n",
    "最坏时间复杂度：log(n)\n",
    "非二分查找的话：最坏复杂度：n\n",
    "\"\"\"\n",
    "def binary_search(alist,item):\n",
    "    \"\"\"递归版本\"\"\"\n",
    "    n=len(alist)\n",
    "    mid=n//2 #向下取整\n",
    "    if n>=1:\n",
    "        if alist[mid]==item:\n",
    "            return True\n",
    "        elif alist[mid]>item:\n",
    "            return binary_search(alist[:mid],item)#不能漏了return，下同\n",
    "        else:\n",
    "            return binary_search(alist[mid+1:],item)\n",
    "    else:\n",
    "        return False\n",
    "    \n",
    "def binary_search_2(alist,item):\n",
    "    \"\"\"非递归版本\"\"\"\n",
    "    first=0\n",
    "    last=len(alist)-1\n",
    "    while first <= last:\n",
    "        mid=(first+last)//2#向下取整\n",
    "        if alist[mid]==item:\n",
    "            return True\n",
    "        elif alist[mid]>item:\n",
    "            last = mid - 1#左移\n",
    "        else:\n",
    "            first = mid + 1#右移\n",
    "    else:\n",
    "        return False\n",
    "binary_search_2([1,2,3,4,5],5)\n",
    "         "
   ]
  },
  {
   "cell_type": "markdown",
   "metadata": {},
   "source": [
    "# top_k问题 O(n)复杂度实现\n",
    "\n"
   ]
  },
  {
   "cell_type": "code",
   "execution_count": 2,
   "metadata": {},
   "outputs": [
    {
     "data": {
      "text/plain": [
       "4"
      ]
     },
     "execution_count": 2,
     "metadata": {},
     "output_type": "execute_result"
    }
   ],
   "source": [
    "def select_one(seq, k):\n",
    "    \"\"\"top_k\"\"\"\n",
    "    mid, seq = seq[0], seq[1:]                 \n",
    "    low = [x for x in seq if x <= mid]\n",
    "    high = [x for x in seq if x > mid]\n",
    "    high_len = len(high)\n",
    "    if high_len == k: return mid #递归终止条件\n",
    "    elif high_len>k:\n",
    "        return select_one(high,k)\n",
    "    elif high_len < k: \n",
    "        high.append(tmp)\n",
    "        return high+select_one(high, k-len(high))\n",
    "seq = [4,3,2,1,5,6,7,8]\n",
    "select_one(seq,4)"
   ]
  },
  {
   "cell_type": "markdown",
   "metadata": {},
   "source": [
    "# top-k问题输出前k大的数组"
   ]
  },
  {
   "cell_type": "code",
   "execution_count": 1,
   "metadata": {},
   "outputs": [
    {
     "data": {
      "text/plain": [
       "[1, 2, 3, 4, 5, 6]"
      ]
     },
     "execution_count": 1,
     "metadata": {},
     "output_type": "execute_result"
    }
   ],
   "source": [
    "# -*- coding:utf-8 -*-\n",
    "class Solution:\n",
    "    \"\"\"buttom-k\"\"\"\n",
    "    def GetLeastNumbers_Solution(self, tinput, k):\n",
    "        # write code here\n",
    "        if k==len(tinput):\n",
    "            return tinput\n",
    "        tmp, s = tinput[0],tinput[1:]\n",
    "        low = [i for i in s if i <= tmp]\n",
    "        high = [i for i in s if i > tmp]  \n",
    "        low_len = len(low)\n",
    "        if low_len==k:\n",
    "            return low\n",
    "        elif low_len>k:\n",
    "            return self.GetLeastNumbers_Solution(low, k)\n",
    "        else:\n",
    "            low.append(tmp)\n",
    "            return low+self.GetLeastNumbers_Solution(high, k-len(low))\n",
    "Solution().GetLeastNumbers_Solution([4,5,1,6,2,7,3,8],6)"
   ]
  },
  {
   "cell_type": "markdown",
   "metadata": {},
   "source": [
    "# 2sum问题o(n)实现"
   ]
  },
  {
   "cell_type": "code",
   "execution_count": 5,
   "metadata": {},
   "outputs": [
    {
     "data": {
      "text/plain": [
       "[1, 2]"
      ]
     },
     "execution_count": 5,
     "metadata": {},
     "output_type": "execute_result"
    }
   ],
   "source": [
    "\"\"\"\n",
    "算法逻辑：用目标值减去每个值，看后期的值是否与前面出现的值相等，若相等则挑出前面值的索引和当前的索引\n",
    "\"\"\"\n",
    "def twoSum(nums, target):  \n",
    "        if len(nums) <= 1:  \n",
    "            return False  \n",
    "        buff_dict = {}  #建立一个字典，key是值，value是索引\n",
    "        for i in range(len(nums)):  \n",
    "            if nums[i] in buff_dict:  \n",
    "                return [buff_dict[nums[i]], i]\n",
    "            else: \n",
    "                buff_dict[target - nums[i]] = i \n",
    "#                 print(buff_dict)\n",
    "\n",
    "nums=[2,7,11,15]    \n",
    "target=18\n",
    "twoSum(nums,target)"
   ]
  },
  {
   "cell_type": "markdown",
   "metadata": {},
   "source": [
    "# 3sum问题o(n**2)实现"
   ]
  },
  {
   "cell_type": "code",
   "execution_count": null,
   "metadata": {},
   "outputs": [],
   "source": [
    "def threeSum(nums):\n",
    "    \"\"\"\n",
    "    三个指针，分别是i和i的右一L和列表尾数减去1逐次相加\n",
    "    算法复杂度O(N^2)\n",
    "    \"\"\"\n",
    "    res=[]\n",
    "    nums = sorted(nums)\n",
    "    for i in range(len(nums)-2):#之所以减去2是因为不必要遍历到后面两个\n",
    "        if i>0 and nums[i]==nums[i-1]:\n",
    "            continue\n",
    "        L,R=i+1,len(nums)-1\n",
    "        while L<R:\n",
    "            s=nums[L]+nums[i]+nums[R]\n",
    "            if s<0:\n",
    "                L+=1\n",
    "            elif s>0:\n",
    "                R-=1\n",
    "            else:\n",
    "                res.append((nums[i],nums[L],nums[R]))\n",
    "                L+=1;R-=1\n",
    "    return res\n",
    "nums=[-1, 0, 1,-1,-4,2]\n",
    "threeSum(nums)"
   ]
  },
  {
   "cell_type": "markdown",
   "metadata": {},
   "source": [
    "# 最少零钱兑换问题"
   ]
  },
  {
   "cell_type": "markdown",
   "metadata": {},
   "source": [
    "<img src=\"https://upload-images.jianshu.io/upload_images/4734220-223c5062e56a99cc.png?imageMogr2/auto-orient/\" width=\"40%\" height=\"30%\">"
   ]
  },
  {
   "cell_type": "code",
   "execution_count": 37,
   "metadata": {},
   "outputs": [
    {
     "name": "stdout",
     "output_type": "stream",
     "text": [
      "[0, 0, 0, 2, 2, 0, 5, 5, 7, 7, 5, 10, 10, 12, 12, 10, 15, 15]\n",
      "[0, 1, 1, 2, 2, 1, 2, 2, 3, 3, 2, 3, 3, 4, 4, 3, 4, 4]\n",
      "最少硬币数: 4\n",
      "可找的硬币: 2 5 5 5 "
     ]
    }
   ],
   "source": [
    "\"\"\"动态规划思想  dp方程式如下\n",
    "dp[0] = 0\n",
    "dp[i] = min{dp[i],dp[i - coins[j]] + 1}, 且 其中 i >= coins[j], 0 <= j < coins.length\n",
    "例如总数等于10，则min(dp[10]) = min(dp[9],dp[8],dp[5])+1\n",
    "path[i] 表示经过本次兑换后所剩下的面值，即 i - path[i] 可得到本次兑换的硬币值。\n",
    "\"\"\"\n",
    " \n",
    "def changeCoins(coins, n):\n",
    "    if n < 0: return None\n",
    "    dp = [0 for i in range(n+1)]# 初始化兑换次数\n",
    "    path = [0 for i in range(n+1)]# 初始化兑换之后所剩金额,为了记录选择的硬币\n",
    "    for i in range(1, n+1):#依次遍历兑换的钱数\n",
    "        minNum = i  # 初始化当前硬币最优值，假设可以被1元硬币兑换的次数,这个貌似不重要\n",
    "        for c in coins:  # 扫描一遍硬币列表，选择一个最优值\n",
    "            if i >= c and minNum > dp[i-c]+1:# 兑换金额至少要大于零钱值，且使用兑换次数小的值 min_Num = min(min_Num,dp[i-c]+1)\n",
    "                minNum = dp[i-c]+1\n",
    "                path[i] = i-c\n",
    "        dp[i] = minNum  # 更新当前硬币最优值\n",
    "    print(path)\n",
    "    print(dp)\n",
    "    print('最少硬币数:', dp[-1])\n",
    "    print('可找的硬币', end=': ')\n",
    "    while path[n] != 0:\n",
    "        print(n-path[n],end=' ')\n",
    "        n = path[n]\n",
    "    print(n, end=' ')\n",
    "\n",
    "if __name__ == '__main__':\n",
    "    coins, n = [1,2,5],17  # 输入可换的硬币种类，总金额n\n",
    "    changeCoins(coins, n)"
   ]
  },
  {
   "cell_type": "markdown",
   "metadata": {},
   "source": [
    "# 零钱兑换次数问题"
   ]
  },
  {
   "cell_type": "markdown",
   "metadata": {},
   "source": [
    "### 已知一张50块的纸币，零钱有【1，3，4】三种，问总共有多少种兑换方式\n",
    "### 动态规划"
   ]
  },
  {
   "cell_type": "markdown",
   "metadata": {},
   "source": [
    "<img src=\"https://upload-images.jianshu.io/upload_images/4734220-24afb25a0cdc28b6.png?imageMogr2/auto-orient/\" width=\"40%\" height=\"30%\">"
   ]
  },
  {
   "cell_type": "code",
   "execution_count": 57,
   "metadata": {},
   "outputs": [
    {
     "name": "stdout",
     "output_type": "stream",
     "text": [
      "0\n"
     ]
    }
   ],
   "source": [
    "\"\"\"零钱兑换方式问题\n",
    "第一步：coins=[1],sum=[1,6] 考虑是否使用硬币1\n",
    "第二步：coins=[1,2],sum=[2,6] 考虑是否使用硬币2\n",
    "第三步：coins=[1,2,5],sum=[5,6] 考虑是否使用硬币5\n",
    "后面的解有前面的子问题解得出\n",
    "\"\"\"\n",
    "\n",
    "def DP_Com(coins,target):\n",
    "    dp=[1]+[0 for i in range(target)]\n",
    "    for coin in coins:#硬币循环\n",
    "        for tsum in range(coin,target+1):#总数循环\n",
    "            dp[tsum]=dp[tsum-coin]+dp[tsum]#包括某个硬币加上不包括某个硬币\n",
    "    return dp[-1]\n",
    "print(DP_Com([1,2,3],5))"
   ]
  },
  {
   "cell_type": "markdown",
   "metadata": {},
   "source": [
    "# 子集和问题"
   ]
  },
  {
   "cell_type": "code",
   "execution_count": 88,
   "metadata": {},
   "outputs": [
    {
     "name": "stdout",
     "output_type": "stream",
     "text": [
      "True\n",
      "子集 = [4, 7, 5, 3].\n"
     ]
    }
   ],
   "source": [
    "def isdpSutarget(S,target):\n",
    "    #创建一个n+1行，target+1列的二维数组\n",
    "    #其初始值为True\n",
    "    n = len(S)\n",
    "    dp = [[True for i in range(target+1)] for i in range(n+1)]\n",
    "\n",
    "    # 如果子集和不为0，而子集是空则为False，只能用这种初始化\n",
    "    # 不能用dp[0]=False,否则 = [False, [0, 0, 0, 0], [0, 0, 0, 0], [0, 0, 0, 0], [0, 0, 0, 0]]\n",
    "    for i in range(1, target+1):\n",
    "        dp[0][i] = False\n",
    "\n",
    "    # 自底向上填满二位数组\n",
    "    for i in range(1, n+1):\n",
    "        for j in range(1, target+1):\n",
    "            if j < S[i-1]:#注意是i-1\n",
    "                dp[i][j] = dp[i-1][j]\n",
    "            else:#否则的话，选或不选\n",
    "                dp[i][j] = dp[i-1][j] or dp[i-1][j-S[i-1]]#注意是i-1\n",
    "\n",
    "    print(dp[-1][-1])\n",
    "\n",
    "    if dp[n][target]:\n",
    "        sol = []\n",
    "        # 使用回溯法寻找解\n",
    "        i = n\n",
    "        while i >= 0:\n",
    "            \"\"\"\n",
    "            dp[i][target]由dp[i-1][target](没选)和dp[i-1][target-a[i-1]](选了)组成，所以符合条件的情况应该是选了=Ture；没选等于=False\n",
    "            从而得到dp[i][target]=True,所以下面的if也可以换成没选和选了的and关系\"\"\"\n",
    "            if dp[i][target] and not dp[i-1][target]:\n",
    "                sol.append(S[i-1])\n",
    "                target -= S[i-1]\n",
    "            if target == 0:\n",
    "                break\n",
    "            i -= 1\n",
    "        print('子集 = %s.' % sol)\n",
    "    else:\n",
    "        print(\"No dp with given target\")\n",
    "\n",
    "# test\n",
    "st = [2,3,5,7,4,3]#目前不能处理包含0和负值的情况\n",
    "target = 19\n",
    "isdpSutarget(st,target)"
   ]
  },
  {
   "cell_type": "markdown",
   "metadata": {},
   "source": [
    "# 01背包问题普通版"
   ]
  },
  {
   "cell_type": "code",
   "execution_count": 4,
   "metadata": {},
   "outputs": [
    {
     "name": "stdout",
     "output_type": "stream",
     "text": [
      "10\n"
     ]
    }
   ],
   "source": [
    "\"\"\"01背包问题普通版\n",
    "时间复杂度：o(N*W)\n",
    "空间复杂度：o(N*W)\"\"\"\n",
    "\n",
    "def solve1(v,w,W):\n",
    "    dp = [[0 for i in range(W+1)]for j in range(len(v)+1)]\n",
    "    for i in range(1,len(v)+1):\n",
    "        for j in range(1,W+1):\n",
    "            if w[i-1]>j:\n",
    "                dp[i][j] = dp[i-1][j]\n",
    "            else:\n",
    "                dp[i][j] = max(dp[i-1][j],v[i-1]+dp[i-1][j-w[i-1]])\n",
    "    return dp[-1][-1]\n",
    "if __name__ == '__main__':\n",
    "    v = [3,6,9,7]\n",
    "    w = [1,3,5,4]\n",
    "    W = 5\n",
    "    \"\"\"如果遇到细粒度更小的情况，就化为整数就行\"\"\"\n",
    "#     w = [int(i*2) for i in [1.5,3.5,5,4]]\n",
    "#     W = 5*2  \n",
    "    result = solve1(v,w,W)\n",
    "    print(result)          "
   ]
  },
  {
   "cell_type": "markdown",
   "metadata": {},
   "source": [
    "# 01背包问题并得到其最优解（参考之前的子集和问题）"
   ]
  },
  {
   "cell_type": "code",
   "execution_count": 91,
   "metadata": {},
   "outputs": [
    {
     "name": "stdout",
     "output_type": "stream",
     "text": [
      "最大价值 : 76\n",
      "选择的权重: [9, 6, 5]\n"
     ]
    }
   ],
   "source": [
    "# n: 对象个数\n",
    "# W: 总重量\n",
    "# w: 每个物品的重量大小\n",
    "# v: 每个物品的价值大小\n",
    "# return: 返回最大价值\n",
    "def Knapsack_01(n, W, w, v):\n",
    "    \"\"\"寻找01背包问题的最大价值量\"\"\"\n",
    "    dp = [[0 for i in range(W+1)] for i in range(n+1)]\n",
    "    for i in range(1, n+1):#遍历每个物品\n",
    "        for j in range(1, W+1):#遍历重量\n",
    "            if w[i-1] > j:\n",
    "                dp[i][j] = dp[i-1][j]\n",
    "            else: # compare the two situations: put ith item in or not\n",
    "                dp[i][j] = max(dp[i-1][j], v[i-1] + dp[i-1][j-w[i-1]])\n",
    "    return dp[n][W]# 返回最大价值\n",
    "\n",
    "def isdpSum(v, n, max_value):\n",
    "    \"\"\"找到最大值之后转化为数组和问题\"\"\"\n",
    "    dp = [[[True] for i in range(max_value+1)] for i in range(n+1)]\n",
    "    for i in range(n+1):#重要,都是加了1\n",
    "        dp[i][0] = True\n",
    "    for i in range(1, max_value+1):#重要\n",
    "        dp[0][i] = False\n",
    "    for i in range(1, n+1):#重要\n",
    "        for j in range(1, max_value+1):#重要\n",
    "            if v[i-1]>j:\n",
    "                dp[i][j] = dp[i-1][j]\n",
    "            else:\n",
    "                dp[i][j] = dp[i-1][j] or dp[i-1][j-v[i-1]]\n",
    "    if dp[n][max_value]:\n",
    "        sol = []\n",
    "        i = n\n",
    "        while i >= 0:\n",
    "            if dp[i][max_value] and not dp[i-1][max_value]:\n",
    "                sol.append(v[i-1])\n",
    "                max_value -= v[i-1]\n",
    "            if max_value == 0:\n",
    "                break\n",
    "            i -= 1\n",
    "        return sol\n",
    "    else:\n",
    "        return []\n",
    "\n",
    "def main():\n",
    "    W = 20\n",
    "    w = (1, 2, 5, 6, 7, 9)\n",
    "    v = (1, 6, 18, 22, 28, 36)\n",
    "    n = len(w)\n",
    "    max_value = Knapsack_01(n, W, w, v)\n",
    "    sol = isdpSum(v, n, max_value)\n",
    "    items = [w[v.index(i)] for i in sol]\n",
    "    print('最大价值 : %s'%max_value)\n",
    "    print('选择的权重: %s'%items)\n",
    "main()"
   ]
  },
  {
   "cell_type": "markdown",
   "metadata": {},
   "source": [
    "# 01背包问题优化版"
   ]
  },
  {
   "cell_type": "code",
   "execution_count": null,
   "metadata": {},
   "outputs": [],
   "source": [
    "\"\"\"\n",
    "时间复杂度：o(N*W)\n",
    "空间复杂度：o(N*V)\n",
    "相比之前空间复杂度减小了\"\"\"\n",
    "def solve2(v,w,W):\n",
    "    dp = [0 for i in range(W+1)]\n",
    "    for i in range(1,len(v)+1):\n",
    "        for j in range(W,0,-1):\n",
    "            if w[i-1] <= j:\n",
    "                dp[j] = max(dp[j],dp[j-w[i-1]]+v[i-1])\n",
    "                print(dp)\n",
    "    return dp[-1]\n",
    "\n",
    "if __name__ == '__main__':\n",
    "    v = [6,10,6,9,7]\n",
    "    w = [1,2,3,5,4]\n",
    "    W = 5\n",
    "    result = solve2(v,w,W)\n",
    "    print(result)"
   ]
  },
  {
   "cell_type": "markdown",
   "metadata": {},
   "source": [
    "#  完全背包问题，可以重复多件样品\n"
   ]
  },
  {
   "cell_type": "code",
   "execution_count": 4,
   "metadata": {},
   "outputs": [
    {
     "name": "stdout",
     "output_type": "stream",
     "text": [
      "[0, 6, 0, 0, 0, 0]\n",
      "[0, 6, 12, 0, 0, 0]\n",
      "[0, 6, 12, 18, 0, 0]\n",
      "[0, 6, 12, 18, 24, 0]\n",
      "[0, 6, 12, 18, 24, 30]\n",
      "[0, 6, 12, 18, 24, 30]\n",
      "[0, 6, 12, 18, 24, 30]\n",
      "[0, 6, 12, 18, 24, 30]\n",
      "[0, 6, 12, 18, 24, 30]\n",
      "[0, 6, 12, 18, 24, 30]\n",
      "[0, 6, 12, 18, 24, 30]\n",
      "[0, 6, 12, 18, 24, 30]\n",
      "[0, 6, 12, 18, 24, 30]\n",
      "[0, 6, 12, 18, 24, 30]\n",
      "[0, 6, 12, 18, 24, 30]\n",
      "30\n"
     ]
    }
   ],
   "source": [
    "def solve3(v,w,W):\n",
    "    dp = [0 for i in range(W+1)]\n",
    "    for i in range(1,len(v)+1):\n",
    "        for j in range(1,W+1):\n",
    "            if w[i-1] <= j:\n",
    "                dp[j] = max(dp[j],dp[j-w[i-1]]+v[i-1])\n",
    "                print(dp)\n",
    "    return dp[-1]\n",
    "\n",
    "if __name__ == '__main__':\n",
    "    v = [6,10,6,9,7]\n",
    "    w = [1,2,3,5,4]\n",
    "    W = 5\n",
    "    result = solve3(v,w,W)\n",
    "    print(result)"
   ]
  },
  {
   "cell_type": "markdown",
   "metadata": {},
   "source": [
    "# 最长公共子串"
   ]
  },
  {
   "cell_type": "markdown",
   "metadata": {},
   "source": [
    "### 思路是建立一个二维矩阵，匹配成功就加1，最后提取最大值，并记录此时的下标，注意初始化的维数对应，先b后a"
   ]
  },
  {
   "cell_type": "code",
   "execution_count": null,
   "metadata": {},
   "outputs": [],
   "source": [
    "#最长公共字串\n",
    "# a=\"dfgml\"\n",
    "# b=\"fgml\"\n",
    "a=[4,3,5,7,9]\n",
    "b=[3,4,5,7,8,9]\n",
    "def find_lcsubstr(a,b):\n",
    "    nmax=0\n",
    "    p=0\n",
    "    dp = [[0 for i in range(len(b)+1)] for j in range(len(a)+1)]\n",
    "    for i in range(len(a)):\n",
    "        for j in range(len(b)):\n",
    "            if a[i]==b[j]:\n",
    "                dp[i+1][j+1]=dp[i][j]+1\n",
    "                if dp[i+1][j+1]>nmax:\n",
    "                    nmax = dp[i+1][j+1]\n",
    "                    p = i+1\n",
    "    return b[p-nmax:p],nmax\n",
    "print(find_lcsubstr(a,b))"
   ]
  },
  {
   "cell_type": "markdown",
   "metadata": {},
   "source": [
    "# 最长公共子序列的实现"
   ]
  },
  {
   "cell_type": "code",
   "execution_count": 2,
   "metadata": {},
   "outputs": [
    {
     "name": "stdout",
     "output_type": "stream",
     "text": [
      "['h', 'g']\n"
     ]
    }
   ],
   "source": [
    "\"\"\"解法就是用动态回归的思想，一个矩阵记录两个字符串中匹配情况，\n",
    "若是匹配则为右下方的值加1，当小明的左边的值大于和等于上方的值时候，\n",
    "小明的位置记录为\"left\"，否则记录为\"up\"。\n",
    "一个矩阵记录转移方向，然后根据转移方向，回溯找到最长子序列\"\"\"\n",
    "# 最长公共子序列的实现\n",
    "def find_lcseque(s1, s2): \n",
    "     # 生成字符串长度加1的0矩阵，m用来保存对应位置匹配的结果\n",
    "    p1,p2 = len(s1),len(s2)\n",
    "    dp = [ [ 0 for x in range(p2+1) ] for y in range(p1+1) ] \n",
    "    # d用来记录转移方向\n",
    "    m = [ [ None for x in range(p2+1) ] for y in range(p1+1) ] \n",
    "\n",
    "    for i in range(p1): \n",
    "        for j in range(p2): \n",
    "            if s1[i] == s2[j]:            #字符匹配成功，则该位置的值为左上方的值加1\n",
    "                dp[i+1][j+1] = dp[i][j]+1\n",
    "                m[i+1][j+1] = 'ok'          \n",
    "            elif dp[i+1][j] > dp[i][j+1]:  #小明的左边大于上边，只能用elif，多个if合并时，用elif提高效率\n",
    "                dp[+1][j+1] = dp[i+1][j] \n",
    "                m[i+1][j+1] = 'le'         \n",
    "            elif dp[i+1][j] <= dp[i][j+1]:  #一定要有等于号，若没有等于号则，两个子序列长度不一致时最后一个dp[-1][-1]会等于0访问不到\n",
    "                dp[i+1][j+1] = dp[i][j+1]   #小明的上边大于下边\n",
    "                m[i+1][j+1] = 'up' \n",
    "                \n",
    "    s = [] \n",
    "    while dp[p1][p2]:    #不为None时或者m[i][j]\n",
    "        c = m[p1][p2]\n",
    "        if c == 'ok':   #匹配成功，插入该字符，并向左上角找下一个\n",
    "            s.append(s1[p1-1])\n",
    "            p1 -= 1\n",
    "            p2 -= 1 \n",
    "        if c =='le':  #根据标记，向左找下一个\n",
    "            p2 -= 1\n",
    "        if c == 'up':   #根据标记，向上找下一个\n",
    "            p1 -= 1\n",
    "    s.reverse() #此时没有返回值\n",
    "    return s\n",
    "\"\"\"两个子序列长度不一定要一致\"\"\"\n",
    "a = \"dffhhfg\"\n",
    "b = \"dfghg\"\n",
    "print (find_lcseque(a,b))\n"
   ]
  },
  {
   "cell_type": "markdown",
   "metadata": {},
   "source": [
    "# 最长公共前缀\n"
   ]
  },
  {
   "cell_type": "code",
   "execution_count": null,
   "metadata": {},
   "outputs": [],
   "source": [
    "\"\"\"\n",
    "输入: [\"flowwer\",\"floww\",\"flight\"]\n",
    "输出: \"fl\"\n",
    "自己创造的结果\n",
    "\n",
    "\"\"\"\n",
    "def lowngestCommonPrefix(strs):\n",
    "    \"\"\"\n",
    "    :type strs: List[str]\n",
    "    :rtype: str\n",
    "    \"\"\"\n",
    "    x_str=\"\"\n",
    "    for n,i in enumerate(zip(*strs)):\n",
    "        print(i)\n",
    "        if len(set(i))==1 and n==len(x_str):\n",
    "            x_str=x_str+i[0]\n",
    "    return x_str\n",
    "lowngestCommonPrefix([\"flowwer\",\"floww\",\"flight\"])"
   ]
  },
  {
   "cell_type": "markdown",
   "metadata": {},
   "source": [
    "# 最长递增子序列"
   ]
  },
  {
   "cell_type": "code",
   "execution_count": 19,
   "metadata": {},
   "outputs": [
    {
     "name": "stdout",
     "output_type": "stream",
     "text": [
      "[3, 2, 2, 1, 1, 0, 0, 0, 0]\n",
      "[10]\n",
      "[10, 22]\n",
      "[10, 22, 33]\n",
      "[10, 22, 33, 90]\n",
      "[10, 22, 33, 90]\n"
     ]
    }
   ],
   "source": [
    "#最长递增子序列\n",
    "def LIS(a):\n",
    "    n = len(a)\n",
    "    m = [0 for i in range(n)]#右边比左边大的个数\n",
    "    for pre in range(n-2,-1,-1):\n",
    "        for cur in range(n-1,pre,-1):#y比x大\n",
    "            if a[pre]<a[cur] and m[pre]<=m[cur]:#注意等于，指针从右往左\n",
    "                m[pre]+=1\n",
    "    max_value = max(m)\n",
    "    print(m)\n",
    "    result = []\n",
    "    for i in range(n):\n",
    "        if m[i]==max_value:\n",
    "            result.append(a[i])\n",
    "            print(result)\n",
    "            max_value -= 1#从左往右检索\n",
    "    return result\n",
    "if __name__==\"__main__\":\n",
    "    arr = [10, 22, 9, 33, 21, 90, 41, 20, 10]\n",
    "    print(LIS(arr))"
   ]
  },
  {
   "cell_type": "markdown",
   "metadata": {},
   "source": [
    "# 求不相邻数字的最大和"
   ]
  },
  {
   "cell_type": "code",
   "execution_count": 4,
   "metadata": {},
   "outputs": [
    {
     "data": {
      "text/plain": [
       "20"
      ]
     },
     "execution_count": 4,
     "metadata": {},
     "output_type": "execute_result"
    }
   ],
   "source": [
    "arr = [4,5,6,7,10]\n",
    "\"\"\"复杂度是O(2^n)\"\"\"\n",
    "def dp_opt(arr):\n",
    "    opt = [0 for i in range(len(arr))]\n",
    "    for i in range(len(arr)):\n",
    "        A = opt[i-2]+arr[i]#选，选中\n",
    "        B = opt[i-1]#不选，左移\n",
    "        opt[i] = max(A,B)\n",
    "    return opt[-1]#返回数组最后一个数\n",
    "dp_opt(arr)"
   ]
  },
  {
   "cell_type": "markdown",
   "metadata": {},
   "source": [
    "# 狄克斯特拉算法\n"
   ]
  },
  {
   "cell_type": "code",
   "execution_count": null,
   "metadata": {},
   "outputs": [],
   "source": [
    "# -*-coding:utf-8-*-\n",
    "# 用散列表实现图的关系\n",
    "graph = {}\n",
    "graph[\"start\"] = {}\n",
    "graph[\"start\"][\"a\"] = 6\n",
    "graph[\"start\"][\"b\"] = 2\n",
    "graph[\"a\"] = {}\n",
    "graph[\"a\"][\"end\"] = 1\n",
    "graph[\"b\"] = {}\n",
    "graph[\"b\"][\"a\"] = 3\n",
    "graph[\"b\"][\"end\"] = 5\n",
    "graph[\"end\"] = {}\n",
    "\n",
    "# 创建节点的开销表，开销是指从start到该节点的权重\n",
    "# 无穷大 \n",
    "infinity = float(\"inf\")\n",
    "costs = {}\n",
    "costs[\"a\"] = 6\n",
    "costs[\"b\"] = 2\n",
    "costs[\"end\"] = infinity\n",
    "\n",
    "# 父节点散列表\n",
    "parents = {}\n",
    "parents[\"a\"] = \"start\"\n",
    "parents[\"b\"] = \"start\"\n",
    "parents[\"end\"] = None\n",
    "\n",
    "# 已经处理过的节点，需要记录\n",
    "processed = []\n",
    "\n",
    "# 找到开销最小的节点\n",
    "def find_lowest_cost_node(costs):\n",
    "    # 初始化数据\n",
    "    lowest_cost = infinity\n",
    "    lowest_cost_node = None\n",
    "    # 遍历所有节点\n",
    "    for node in costs:\n",
    "        # 该节点没有被处理\n",
    "        if not node in processed:\n",
    "            # 如果当前节点的开销比已经存在的开销小，则更新该节点为开销最小的节点\n",
    "            if costs[node] < lowest_cost:\n",
    "                lowest_cost = costs[node]\n",
    "                lowest_cost_node = node\n",
    "    return lowest_cost_node\n",
    "\n",
    "    # 找到最短路径\n",
    "def find_shortest_path():\n",
    "    node = \"end\"\n",
    "    shortest_path = [\"end\"]\n",
    "    while parents[node] != \"start\":\n",
    "        shortest_path.append(parents[node])\n",
    "        node = parents[node]\n",
    "    shortest_path.append(\"start\")\n",
    "    return shortest_path\n",
    "\n",
    "\n",
    "    #寻找加权的最短路径\n",
    "def dijkstra():\n",
    "    # 查询到目前开销最小的节点\n",
    "    node = find_lowest_cost_node(costs)\n",
    "    # 只要有开销最小的节点就循环\n",
    "    while node is not None:\n",
    "        # 获取该节点当前开销\n",
    "        cost = costs[node]\n",
    "        # 获取该节点相邻的节点\n",
    "        neighbors = graph[node]\n",
    "        # 遍历这些相邻节点\n",
    "        for n in neighbors :\n",
    "            # 计算经过当前节点到达相邻结点的开销,即当前节点的开销加上当前节点到相邻节点的开销\n",
    "            new_cost = cost + neighbors[n]\n",
    "            # 如果计算获得的开销比原本该节点的开销小，更新该节点的开销和父节点\n",
    "            if new_cost < costs[n]:\n",
    "                costs[n] = new_cost\n",
    "                parents[n] = node\n",
    "        # 遍历完毕该节点的所有相邻节点，说明该节点已经处理完毕\n",
    "        processed.append(node)\n",
    "        # 去查找下一个开销最小的节点，若存在则继续执行循环，若不存在结束循环\n",
    "        node = find_lowest_cost_node(costs)\n",
    "    # 循环完毕说明所有节点都已经处理完毕\n",
    "    shortest_path = find_shortest_path()\n",
    "    shortest_path.reverse()\n",
    "    print(shortest_path)\n",
    "\n",
    "# 测试\n",
    "dijkstra()"
   ]
  },
  {
   "cell_type": "markdown",
   "metadata": {},
   "source": [
    "# 最短路径问题"
   ]
  },
  {
   "cell_type": "code",
   "execution_count": null,
   "metadata": {},
   "outputs": [],
   "source": [
    "G = {1:{1:0, 2:-3, 5:5},\n",
    "     2:{2:0, 3:2},\n",
    "     3:{3:0, 4:3},\n",
    "     4:{4:0, 5:2},\n",
    "     5:{5:0}}\n",
    "\n",
    "def getEdges(G):\n",
    "    v1 = []     # 出发点         \n",
    "    v2 = []     # 对应的相邻到达点\n",
    "    w  = []     # 顶点v1到顶点v2的边的权值\n",
    "    for i in G:\n",
    "        for j in G[i]:\n",
    "            if G[i][j] != 0:\n",
    "                w.append(G[i][j])\n",
    "                v1.append(i)\n",
    "                v2.append(j)\n",
    "    return v1,v2,w\n",
    "\n",
    "def Bellman_Ford(G, v0, INF=999):\n",
    "    v1,v2,w = getEdges(G)\n",
    "\n",
    "    # 初始化源点与所有点之间的最短距离\n",
    "    dis = dict((k,INF) for k in G.keys())\n",
    "    dis[v0] = 0\n",
    "\n",
    "    # 核心算法\n",
    "    for k in range(len(G)-1):   # 循环 n-1轮\n",
    "        check = 0           # 用于标记本轮松弛中dis是否发生更新\n",
    "        for i in range(len(w)):     # 对每条边进行一次松弛操作\n",
    "            if dis[v1[i]] + w[i] < dis[v2[i]]:\n",
    "                dis[v2[i]] = dis[v1[i]] + w[i]\n",
    "                check = 1\n",
    "        if check == 0: break\n",
    "\n",
    "    # 检测负权回路\n",
    "    # 如果在 n-1 次松弛之后，最短路径依然发生变化，则该图必然存在负权回路\n",
    "    flag = 0\n",
    "    for i in range(len(w)):             # 对每条边再尝试进行一次松弛操作\n",
    "        if dis[v1[i]] + w[i] < dis[v2[i]]: \n",
    "            flag = 1\n",
    "            break\n",
    "    if flag == 1:\n",
    "        return False\n",
    "    return dis\n",
    "\n",
    "v0 = 1\n",
    "dis = Bellman_Ford(G, v0)\n",
    "print (\"初始化源点%s与所有点之间的最短距离=%s\" % (v0,dis))\n"
   ]
  },
  {
   "cell_type": "markdown",
   "metadata": {},
   "source": [
    "# 股神"
   ]
  },
  {
   "cell_type": "code",
   "execution_count": null,
   "metadata": {},
   "outputs": [],
   "source": [
    "\"\"\"\n",
    "经过严密的计算，小赛买了一支股票，他知道从他买股票的那天开始，股票会有以下变化：第一天不变，以后涨一天，跌一天，涨两天，跌一天，涨三天，跌一天...依此类推。\n",
    "为方便计算，假设每次涨和跌皆为1，股票初始单价也为1，请计算买股票的第n天每股股票值多少钱？\n",
    "\"\"\"\n",
    "\"\"\"解题思路:\n",
    "i j lowc\n",
    "1 2 3\n",
    "3 3 6\n",
    "6 4 10\n",
    "10 5 15\n",
    "计算一下n以内有j个下跌的时刻，再将n-2j，又因为j是从2开始的且j满足终止条件时还+=1了，所以最后需要j-3，最后print(n-2*(j-3))\"\"\"\n",
    "n=14\n",
    "i=1\n",
    "j=2\n",
    "lowc=0\n",
    "while lowc  <= n:\n",
    "    lowc = i+j\n",
    "    i = lowc\n",
    "    j+=1\n",
    "print(n-2*(j-3))"
   ]
  }
 ],
 "metadata": {
  "kernelspec": {
   "display_name": "Python 3",
   "language": "python",
   "name": "python3"
  },
  "language_info": {
   "codemirror_mode": {
    "name": "ipython",
    "version": 3
   },
   "file_extension": ".py",
   "mimetype": "text/x-python",
   "name": "python",
   "nbconvert_exporter": "python",
   "pygments_lexer": "ipython3",
   "version": "3.6.5"
  }
 },
 "nbformat": 4,
 "nbformat_minor": 2
}
